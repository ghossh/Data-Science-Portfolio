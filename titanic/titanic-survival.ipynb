{
 "cells": [
  {
   "cell_type": "markdown",
   "id": "63b7c20e",
   "metadata": {
    "papermill": {
     "duration": 0.080342,
     "end_time": "2021-08-06T06:46:14.503602",
     "exception": false,
     "start_time": "2021-08-06T06:46:14.423260",
     "status": "completed"
    },
    "tags": []
   },
   "source": [
    "## 1. Importing libraries"
   ]
  },
  {
   "cell_type": "code",
   "execution_count": 1,
   "id": "ed429354",
   "metadata": {
    "execution": {
     "iopub.execute_input": "2021-08-06T06:46:14.668987Z",
     "iopub.status.busy": "2021-08-06T06:46:14.664323Z",
     "iopub.status.idle": "2021-08-06T06:46:15.641714Z",
     "shell.execute_reply": "2021-08-06T06:46:15.640964Z",
     "shell.execute_reply.started": "2021-08-06T06:44:55.889894Z"
    },
    "papermill": {
     "duration": 1.06197,
     "end_time": "2021-08-06T06:46:15.641880",
     "exception": false,
     "start_time": "2021-08-06T06:46:14.579910",
     "status": "completed"
    },
    "tags": []
   },
   "outputs": [],
   "source": [
    "import numpy as np\n",
    "import pandas as pd\n",
    "import matplotlib.pyplot as plt\n",
    "import seaborn as sns\n",
    "\n",
    "%matplotlib inline"
   ]
  },
  {
   "cell_type": "markdown",
   "id": "97064739",
   "metadata": {
    "papermill": {
     "duration": 0.091193,
     "end_time": "2021-08-06T06:46:15.808684",
     "exception": false,
     "start_time": "2021-08-06T06:46:15.717491",
     "status": "completed"
    },
    "tags": []
   },
   "source": [
    "## 2. Loading dataset"
   ]
  },
  {
   "cell_type": "code",
   "execution_count": 2,
   "id": "f74b386d",
   "metadata": {
    "execution": {
     "iopub.execute_input": "2021-08-06T06:46:15.982410Z",
     "iopub.status.busy": "2021-08-06T06:46:15.981478Z",
     "iopub.status.idle": "2021-08-06T06:46:15.997597Z",
     "shell.execute_reply": "2021-08-06T06:46:15.996865Z",
     "shell.execute_reply.started": "2021-08-06T06:44:56.887663Z"
    },
    "papermill": {
     "duration": 0.097455,
     "end_time": "2021-08-06T06:46:15.997744",
     "exception": false,
     "start_time": "2021-08-06T06:46:15.900289",
     "status": "completed"
    },
    "tags": []
   },
   "outputs": [],
   "source": [
    "df = pd.read_csv('../input/titanic/train.csv')"
   ]
  },
  {
   "cell_type": "markdown",
   "id": "fc39e909",
   "metadata": {
    "papermill": {
     "duration": 0.07465,
     "end_time": "2021-08-06T06:46:16.147985",
     "exception": false,
     "start_time": "2021-08-06T06:46:16.073335",
     "status": "completed"
    },
    "tags": []
   },
   "source": [
    "## 3. Inspecting data"
   ]
  },
  {
   "cell_type": "code",
   "execution_count": 3,
   "id": "315c1d73",
   "metadata": {
    "execution": {
     "iopub.execute_input": "2021-08-06T06:46:16.309579Z",
     "iopub.status.busy": "2021-08-06T06:46:16.307514Z",
     "iopub.status.idle": "2021-08-06T06:46:16.332525Z",
     "shell.execute_reply": "2021-08-06T06:46:16.333045Z",
     "shell.execute_reply.started": "2021-08-06T06:44:56.906540Z"
    },
    "papermill": {
     "duration": 0.109528,
     "end_time": "2021-08-06T06:46:16.333216",
     "exception": false,
     "start_time": "2021-08-06T06:46:16.223688",
     "status": "completed"
    },
    "tags": []
   },
   "outputs": [
    {
     "data": {
      "text/html": [
       "<div>\n",
       "<style scoped>\n",
       "    .dataframe tbody tr th:only-of-type {\n",
       "        vertical-align: middle;\n",
       "    }\n",
       "\n",
       "    .dataframe tbody tr th {\n",
       "        vertical-align: top;\n",
       "    }\n",
       "\n",
       "    .dataframe thead th {\n",
       "        text-align: right;\n",
       "    }\n",
       "</style>\n",
       "<table border=\"1\" class=\"dataframe\">\n",
       "  <thead>\n",
       "    <tr style=\"text-align: right;\">\n",
       "      <th></th>\n",
       "      <th>PassengerId</th>\n",
       "      <th>Survived</th>\n",
       "      <th>Pclass</th>\n",
       "      <th>Name</th>\n",
       "      <th>Sex</th>\n",
       "      <th>Age</th>\n",
       "      <th>SibSp</th>\n",
       "      <th>Parch</th>\n",
       "      <th>Ticket</th>\n",
       "      <th>Fare</th>\n",
       "      <th>Cabin</th>\n",
       "      <th>Embarked</th>\n",
       "    </tr>\n",
       "  </thead>\n",
       "  <tbody>\n",
       "    <tr>\n",
       "      <th>0</th>\n",
       "      <td>1</td>\n",
       "      <td>0</td>\n",
       "      <td>3</td>\n",
       "      <td>Braund, Mr. Owen Harris</td>\n",
       "      <td>male</td>\n",
       "      <td>22.0</td>\n",
       "      <td>1</td>\n",
       "      <td>0</td>\n",
       "      <td>A/5 21171</td>\n",
       "      <td>7.2500</td>\n",
       "      <td>NaN</td>\n",
       "      <td>S</td>\n",
       "    </tr>\n",
       "    <tr>\n",
       "      <th>1</th>\n",
       "      <td>2</td>\n",
       "      <td>1</td>\n",
       "      <td>1</td>\n",
       "      <td>Cumings, Mrs. John Bradley (Florence Briggs Th...</td>\n",
       "      <td>female</td>\n",
       "      <td>38.0</td>\n",
       "      <td>1</td>\n",
       "      <td>0</td>\n",
       "      <td>PC 17599</td>\n",
       "      <td>71.2833</td>\n",
       "      <td>C85</td>\n",
       "      <td>C</td>\n",
       "    </tr>\n",
       "    <tr>\n",
       "      <th>2</th>\n",
       "      <td>3</td>\n",
       "      <td>1</td>\n",
       "      <td>3</td>\n",
       "      <td>Heikkinen, Miss. Laina</td>\n",
       "      <td>female</td>\n",
       "      <td>26.0</td>\n",
       "      <td>0</td>\n",
       "      <td>0</td>\n",
       "      <td>STON/O2. 3101282</td>\n",
       "      <td>7.9250</td>\n",
       "      <td>NaN</td>\n",
       "      <td>S</td>\n",
       "    </tr>\n",
       "    <tr>\n",
       "      <th>3</th>\n",
       "      <td>4</td>\n",
       "      <td>1</td>\n",
       "      <td>1</td>\n",
       "      <td>Futrelle, Mrs. Jacques Heath (Lily May Peel)</td>\n",
       "      <td>female</td>\n",
       "      <td>35.0</td>\n",
       "      <td>1</td>\n",
       "      <td>0</td>\n",
       "      <td>113803</td>\n",
       "      <td>53.1000</td>\n",
       "      <td>C123</td>\n",
       "      <td>S</td>\n",
       "    </tr>\n",
       "    <tr>\n",
       "      <th>4</th>\n",
       "      <td>5</td>\n",
       "      <td>0</td>\n",
       "      <td>3</td>\n",
       "      <td>Allen, Mr. William Henry</td>\n",
       "      <td>male</td>\n",
       "      <td>35.0</td>\n",
       "      <td>0</td>\n",
       "      <td>0</td>\n",
       "      <td>373450</td>\n",
       "      <td>8.0500</td>\n",
       "      <td>NaN</td>\n",
       "      <td>S</td>\n",
       "    </tr>\n",
       "  </tbody>\n",
       "</table>\n",
       "</div>"
      ],
      "text/plain": [
       "   PassengerId  Survived  Pclass  \\\n",
       "0            1         0       3   \n",
       "1            2         1       1   \n",
       "2            3         1       3   \n",
       "3            4         1       1   \n",
       "4            5         0       3   \n",
       "\n",
       "                                                Name     Sex   Age  SibSp  \\\n",
       "0                            Braund, Mr. Owen Harris    male  22.0      1   \n",
       "1  Cumings, Mrs. John Bradley (Florence Briggs Th...  female  38.0      1   \n",
       "2                             Heikkinen, Miss. Laina  female  26.0      0   \n",
       "3       Futrelle, Mrs. Jacques Heath (Lily May Peel)  female  35.0      1   \n",
       "4                           Allen, Mr. William Henry    male  35.0      0   \n",
       "\n",
       "   Parch            Ticket     Fare Cabin Embarked  \n",
       "0      0         A/5 21171   7.2500   NaN        S  \n",
       "1      0          PC 17599  71.2833   C85        C  \n",
       "2      0  STON/O2. 3101282   7.9250   NaN        S  \n",
       "3      0            113803  53.1000  C123        S  \n",
       "4      0            373450   8.0500   NaN        S  "
      ]
     },
     "execution_count": 3,
     "metadata": {},
     "output_type": "execute_result"
    }
   ],
   "source": [
    "df.head()"
   ]
  },
  {
   "cell_type": "code",
   "execution_count": 4,
   "id": "3764ab83",
   "metadata": {
    "execution": {
     "iopub.execute_input": "2021-08-06T06:46:16.501552Z",
     "iopub.status.busy": "2021-08-06T06:46:16.500813Z",
     "iopub.status.idle": "2021-08-06T06:46:16.510741Z",
     "shell.execute_reply": "2021-08-06T06:46:16.511373Z",
     "shell.execute_reply.started": "2021-08-06T06:44:56.939807Z"
    },
    "papermill": {
     "duration": 0.100468,
     "end_time": "2021-08-06T06:46:16.511540",
     "exception": false,
     "start_time": "2021-08-06T06:46:16.411072",
     "status": "completed"
    },
    "tags": []
   },
   "outputs": [
    {
     "name": "stdout",
     "output_type": "stream",
     "text": [
      "<class 'pandas.core.frame.DataFrame'>\n",
      "RangeIndex: 891 entries, 0 to 890\n",
      "Data columns (total 12 columns):\n",
      " #   Column       Non-Null Count  Dtype  \n",
      "---  ------       --------------  -----  \n",
      " 0   PassengerId  891 non-null    int64  \n",
      " 1   Survived     891 non-null    int64  \n",
      " 2   Pclass       891 non-null    int64  \n",
      " 3   Name         891 non-null    object \n",
      " 4   Sex          891 non-null    object \n",
      " 5   Age          714 non-null    float64\n",
      " 6   SibSp        891 non-null    int64  \n",
      " 7   Parch        891 non-null    int64  \n",
      " 8   Ticket       891 non-null    object \n",
      " 9   Fare         891 non-null    float64\n",
      " 10  Cabin        204 non-null    object \n",
      " 11  Embarked     889 non-null    object \n",
      "dtypes: float64(2), int64(5), object(5)\n",
      "memory usage: 83.7+ KB\n"
     ]
    }
   ],
   "source": [
    "df.info()"
   ]
  },
  {
   "cell_type": "markdown",
   "id": "24cabd0f",
   "metadata": {
    "papermill": {
     "duration": 0.076218,
     "end_time": "2021-08-06T06:46:16.664392",
     "exception": false,
     "start_time": "2021-08-06T06:46:16.588174",
     "status": "completed"
    },
    "tags": []
   },
   "source": [
    "## 4. Removing unuseful columns"
   ]
  },
  {
   "cell_type": "markdown",
   "id": "df22c0fd",
   "metadata": {
    "papermill": {
     "duration": 0.076513,
     "end_time": "2021-08-06T06:46:16.817433",
     "exception": false,
     "start_time": "2021-08-06T06:46:16.740920",
     "status": "completed"
    },
    "tags": []
   },
   "source": [
    "* It's obvious that PassengerID has nothing to do with our model so simply just dropped it!"
   ]
  },
  {
   "cell_type": "code",
   "execution_count": 5,
   "id": "62f5c7ad",
   "metadata": {
    "execution": {
     "iopub.execute_input": "2021-08-06T06:46:16.975187Z",
     "iopub.status.busy": "2021-08-06T06:46:16.974501Z",
     "iopub.status.idle": "2021-08-06T06:46:16.983669Z",
     "shell.execute_reply": "2021-08-06T06:46:16.983060Z",
     "shell.execute_reply.started": "2021-08-06T06:44:56.962005Z"
    },
    "papermill": {
     "duration": 0.089753,
     "end_time": "2021-08-06T06:46:16.983803",
     "exception": false,
     "start_time": "2021-08-06T06:46:16.894050",
     "status": "completed"
    },
    "tags": []
   },
   "outputs": [
    {
     "data": {
      "text/plain": [
       "C23 C25 C27    4\n",
       "G6             4\n",
       "B96 B98        4\n",
       "D              3\n",
       "E101           3\n",
       "              ..\n",
       "D37            1\n",
       "C104           1\n",
       "B80            1\n",
       "C111           1\n",
       "E68            1\n",
       "Name: Cabin, Length: 147, dtype: int64"
      ]
     },
     "execution_count": 5,
     "metadata": {},
     "output_type": "execute_result"
    }
   ],
   "source": [
    "df[\"Cabin\"].value_counts()"
   ]
  },
  {
   "cell_type": "markdown",
   "id": "b7e410ca",
   "metadata": {
    "papermill": {
     "duration": 0.075987,
     "end_time": "2021-08-06T06:46:17.136077",
     "exception": false,
     "start_time": "2021-08-06T06:46:17.060090",
     "status": "completed"
    },
    "tags": []
   },
   "source": [
    "* It looks like that cabin number is to spreaded to be used in the model but let's visualise it and then make the decision.\n",
    "* At most 4 rows share the same cabin so it doens't help much and it's better to drop it."
   ]
  },
  {
   "cell_type": "code",
   "execution_count": 6,
   "id": "48fb80bd",
   "metadata": {
    "execution": {
     "iopub.execute_input": "2021-08-06T06:46:17.297368Z",
     "iopub.status.busy": "2021-08-06T06:46:17.296397Z",
     "iopub.status.idle": "2021-08-06T06:46:17.300200Z",
     "shell.execute_reply": "2021-08-06T06:46:17.300665Z",
     "shell.execute_reply.started": "2021-08-06T06:44:56.978559Z"
    },
    "papermill": {
     "duration": 0.088445,
     "end_time": "2021-08-06T06:46:17.300837",
     "exception": false,
     "start_time": "2021-08-06T06:46:17.212392",
     "status": "completed"
    },
    "tags": []
   },
   "outputs": [
    {
     "data": {
      "text/plain": [
       "8.0500     43\n",
       "13.0000    42\n",
       "7.8958     38\n",
       "7.7500     34\n",
       "26.0000    31\n",
       "           ..\n",
       "50.4958     1\n",
       "13.8583     1\n",
       "8.4583      1\n",
       "7.7250      1\n",
       "7.5208      1\n",
       "Name: Fare, Length: 248, dtype: int64"
      ]
     },
     "execution_count": 6,
     "metadata": {},
     "output_type": "execute_result"
    }
   ],
   "source": [
    "df[\"Fare\"].value_counts()"
   ]
  },
  {
   "cell_type": "code",
   "execution_count": 7,
   "id": "30460a90",
   "metadata": {
    "execution": {
     "iopub.execute_input": "2021-08-06T06:46:17.460273Z",
     "iopub.status.busy": "2021-08-06T06:46:17.459214Z",
     "iopub.status.idle": "2021-08-06T06:46:17.471317Z",
     "shell.execute_reply": "2021-08-06T06:46:17.471799Z",
     "shell.execute_reply.started": "2021-08-06T06:44:56.990750Z"
    },
    "papermill": {
     "duration": 0.093434,
     "end_time": "2021-08-06T06:46:17.471975",
     "exception": false,
     "start_time": "2021-08-06T06:46:17.378541",
     "status": "completed"
    },
    "tags": []
   },
   "outputs": [
    {
     "data": {
      "text/plain": [
       "count    891.000000\n",
       "mean      32.204208\n",
       "std       49.693429\n",
       "min        0.000000\n",
       "25%        7.910400\n",
       "50%       14.454200\n",
       "75%       31.000000\n",
       "max      512.329200\n",
       "Name: Fare, dtype: float64"
      ]
     },
     "execution_count": 7,
     "metadata": {},
     "output_type": "execute_result"
    }
   ],
   "source": [
    "df[\"Fare\"].describe()"
   ]
  },
  {
   "cell_type": "code",
   "execution_count": 8,
   "id": "2a9ab556",
   "metadata": {
    "execution": {
     "iopub.execute_input": "2021-08-06T06:46:17.631835Z",
     "iopub.status.busy": "2021-08-06T06:46:17.630779Z",
     "iopub.status.idle": "2021-08-06T06:46:18.186158Z",
     "shell.execute_reply": "2021-08-06T06:46:18.185571Z",
     "shell.execute_reply.started": "2021-08-06T06:44:57.010009Z"
    },
    "papermill": {
     "duration": 0.636526,
     "end_time": "2021-08-06T06:46:18.186309",
     "exception": false,
     "start_time": "2021-08-06T06:46:17.549783",
     "status": "completed"
    },
    "tags": []
   },
   "outputs": [
    {
     "data": {
      "text/plain": [
       "<seaborn.axisgrid.FacetGrid at 0x7f227aeccad0>"
      ]
     },
     "execution_count": 8,
     "metadata": {},
     "output_type": "execute_result"
    },
    {
     "data": {
      "image/png": "[encoded data removed]",
      "text/plain": [
       "<Figure size 360x360 with 1 Axes>"
      ]
     },
     "metadata": {
      "needs_background": "light"
     },
     "output_type": "display_data"
    }
   ],
   "source": [
    "sns.displot(df[\"Fare\"])"
   ]
  },
  {
   "cell_type": "markdown",
   "id": "8f47ead1",
   "metadata": {
    "papermill": {
     "duration": 0.078036,
     "end_time": "2021-08-06T06:46:18.342714",
     "exception": false,
     "start_time": "2021-08-06T06:46:18.264678",
     "status": "completed"
    },
    "tags": []
   },
   "source": [
    "* __\"Fare\"__ Distplot is pretty much skewed, maybe it's better to use the **log form**.\n",
    "* And clearly we don't have to remove \"Fare\" column."
   ]
  },
  {
   "cell_type": "code",
   "execution_count": 9,
   "id": "a29ab787",
   "metadata": {
    "execution": {
     "iopub.execute_input": "2021-08-06T06:46:18.508917Z",
     "iopub.status.busy": "2021-08-06T06:46:18.505797Z",
     "iopub.status.idle": "2021-08-06T06:46:18.512255Z",
     "shell.execute_reply": "2021-08-06T06:46:18.512862Z",
     "shell.execute_reply.started": "2021-08-06T06:44:57.522114Z"
    },
    "papermill": {
     "duration": 0.090777,
     "end_time": "2021-08-06T06:46:18.513050",
     "exception": false,
     "start_time": "2021-08-06T06:46:18.422273",
     "status": "completed"
    },
    "tags": []
   },
   "outputs": [
    {
     "data": {
      "text/plain": [
       "CA. 2343     7\n",
       "1601         7\n",
       "347082       7\n",
       "3101295      6\n",
       "CA 2144      6\n",
       "            ..\n",
       "244358       1\n",
       "CA. 2314     1\n",
       "111427       1\n",
       "349252       1\n",
       "A/5. 3337    1\n",
       "Name: Ticket, Length: 681, dtype: int64"
      ]
     },
     "execution_count": 9,
     "metadata": {},
     "output_type": "execute_result"
    }
   ],
   "source": [
    "df[\"Ticket\"].value_counts()"
   ]
  },
  {
   "cell_type": "markdown",
   "id": "9f026446",
   "metadata": {
    "papermill": {
     "duration": 0.07854,
     "end_time": "2021-08-06T06:46:18.670171",
     "exception": false,
     "start_time": "2021-08-06T06:46:18.591631",
     "status": "completed"
    },
    "tags": []
   },
   "source": [
    "* Ticket column is like Cabin, so spreaded so we just remove it!"
   ]
  },
  {
   "cell_type": "markdown",
   "id": "6db2e41f",
   "metadata": {
    "papermill": {
     "duration": 0.07891,
     "end_time": "2021-08-06T06:46:18.827716",
     "exception": false,
     "start_time": "2021-08-06T06:46:18.748806",
     "status": "completed"
    },
    "tags": []
   },
   "source": [
    "#### First we check for duplicate names and then remove the Name column"
   ]
  },
  {
   "cell_type": "code",
   "execution_count": 10,
   "id": "9a5d8e7e",
   "metadata": {
    "execution": {
     "iopub.execute_input": "2021-08-06T06:46:18.988439Z",
     "iopub.status.busy": "2021-08-06T06:46:18.987685Z",
     "iopub.status.idle": "2021-08-06T06:46:18.994380Z",
     "shell.execute_reply": "2021-08-06T06:46:18.993661Z",
     "shell.execute_reply.started": "2021-08-06T06:44:57.531230Z"
    },
    "papermill": {
     "duration": 0.088311,
     "end_time": "2021-08-06T06:46:18.994529",
     "exception": false,
     "start_time": "2021-08-06T06:46:18.906218",
     "status": "completed"
    },
    "tags": []
   },
   "outputs": [
    {
     "data": {
      "text/plain": [
       "0"
      ]
     },
     "execution_count": 10,
     "metadata": {},
     "output_type": "execute_result"
    }
   ],
   "source": [
    "df[\"Name\"].duplicated().sum()"
   ]
  },
  {
   "cell_type": "markdown",
   "id": "8768b7d1",
   "metadata": {
    "papermill": {
     "duration": 0.079837,
     "end_time": "2021-08-06T06:46:19.154681",
     "exception": false,
     "start_time": "2021-08-06T06:46:19.074844",
     "status": "completed"
    },
    "tags": []
   },
   "source": [
    "* No duplicates!"
   ]
  },
  {
   "cell_type": "code",
   "execution_count": 11,
   "id": "a67aa899",
   "metadata": {
    "execution": {
     "iopub.execute_input": "2021-08-06T06:46:19.322377Z",
     "iopub.status.busy": "2021-08-06T06:46:19.321370Z",
     "iopub.status.idle": "2021-08-06T06:46:19.324413Z",
     "shell.execute_reply": "2021-08-06T06:46:19.323862Z",
     "shell.execute_reply.started": "2021-08-06T06:44:57.545970Z"
    },
    "papermill": {
     "duration": 0.089447,
     "end_time": "2021-08-06T06:46:19.324553",
     "exception": false,
     "start_time": "2021-08-06T06:46:19.235106",
     "status": "completed"
    },
    "tags": []
   },
   "outputs": [],
   "source": [
    "df.drop([\"Cabin\",\"Ticket\",\"PassengerId\",\"Name\"],axis = 1, inplace=True)"
   ]
  },
  {
   "cell_type": "code",
   "execution_count": 12,
   "id": "3a5c5882",
   "metadata": {
    "execution": {
     "iopub.execute_input": "2021-08-06T06:46:19.488402Z",
     "iopub.status.busy": "2021-08-06T06:46:19.487741Z",
     "iopub.status.idle": "2021-08-06T06:46:19.503545Z",
     "shell.execute_reply": "2021-08-06T06:46:19.503006Z",
     "shell.execute_reply.started": "2021-08-06T06:44:57.559530Z"
    },
    "papermill": {
     "duration": 0.09804,
     "end_time": "2021-08-06T06:46:19.503687",
     "exception": false,
     "start_time": "2021-08-06T06:46:19.405647",
     "status": "completed"
    },
    "tags": []
   },
   "outputs": [
    {
     "data": {
      "text/html": [
       "<div>\n",
       "<style scoped>\n",
       "    .dataframe tbody tr th:only-of-type {\n",
       "        vertical-align: middle;\n",
       "    }\n",
       "\n",
       "    .dataframe tbody tr th {\n",
       "        vertical-align: top;\n",
       "    }\n",
       "\n",
       "    .dataframe thead th {\n",
       "        text-align: right;\n",
       "    }\n",
       "</style>\n",
       "<table border=\"1\" class=\"dataframe\">\n",
       "  <thead>\n",
       "    <tr style=\"text-align: right;\">\n",
       "      <th></th>\n",
       "      <th>Survived</th>\n",
       "      <th>Pclass</th>\n",
       "      <th>Sex</th>\n",
       "      <th>Age</th>\n",
       "      <th>SibSp</th>\n",
       "      <th>Parch</th>\n",
       "      <th>Fare</th>\n",
       "      <th>Embarked</th>\n",
       "    </tr>\n",
       "  </thead>\n",
       "  <tbody>\n",
       "    <tr>\n",
       "      <th>0</th>\n",
       "      <td>0</td>\n",
       "      <td>3</td>\n",
       "      <td>male</td>\n",
       "      <td>22.0</td>\n",
       "      <td>1</td>\n",
       "      <td>0</td>\n",
       "      <td>7.2500</td>\n",
       "      <td>S</td>\n",
       "    </tr>\n",
       "    <tr>\n",
       "      <th>1</th>\n",
       "      <td>1</td>\n",
       "      <td>1</td>\n",
       "      <td>female</td>\n",
       "      <td>38.0</td>\n",
       "      <td>1</td>\n",
       "      <td>0</td>\n",
       "      <td>71.2833</td>\n",
       "      <td>C</td>\n",
       "    </tr>\n",
       "    <tr>\n",
       "      <th>2</th>\n",
       "      <td>1</td>\n",
       "      <td>3</td>\n",
       "      <td>female</td>\n",
       "      <td>26.0</td>\n",
       "      <td>0</td>\n",
       "      <td>0</td>\n",
       "      <td>7.9250</td>\n",
       "      <td>S</td>\n",
       "    </tr>\n",
       "    <tr>\n",
       "      <th>3</th>\n",
       "      <td>1</td>\n",
       "      <td>1</td>\n",
       "      <td>female</td>\n",
       "      <td>35.0</td>\n",
       "      <td>1</td>\n",
       "      <td>0</td>\n",
       "      <td>53.1000</td>\n",
       "      <td>S</td>\n",
       "    </tr>\n",
       "    <tr>\n",
       "      <th>4</th>\n",
       "      <td>0</td>\n",
       "      <td>3</td>\n",
       "      <td>male</td>\n",
       "      <td>35.0</td>\n",
       "      <td>0</td>\n",
       "      <td>0</td>\n",
       "      <td>8.0500</td>\n",
       "      <td>S</td>\n",
       "    </tr>\n",
       "    <tr>\n",
       "      <th>5</th>\n",
       "      <td>0</td>\n",
       "      <td>3</td>\n",
       "      <td>male</td>\n",
       "      <td>NaN</td>\n",
       "      <td>0</td>\n",
       "      <td>0</td>\n",
       "      <td>8.4583</td>\n",
       "      <td>Q</td>\n",
       "    </tr>\n",
       "    <tr>\n",
       "      <th>6</th>\n",
       "      <td>0</td>\n",
       "      <td>1</td>\n",
       "      <td>male</td>\n",
       "      <td>54.0</td>\n",
       "      <td>0</td>\n",
       "      <td>0</td>\n",
       "      <td>51.8625</td>\n",
       "      <td>S</td>\n",
       "    </tr>\n",
       "    <tr>\n",
       "      <th>7</th>\n",
       "      <td>0</td>\n",
       "      <td>3</td>\n",
       "      <td>male</td>\n",
       "      <td>2.0</td>\n",
       "      <td>3</td>\n",
       "      <td>1</td>\n",
       "      <td>21.0750</td>\n",
       "      <td>S</td>\n",
       "    </tr>\n",
       "    <tr>\n",
       "      <th>8</th>\n",
       "      <td>1</td>\n",
       "      <td>3</td>\n",
       "      <td>female</td>\n",
       "      <td>27.0</td>\n",
       "      <td>0</td>\n",
       "      <td>2</td>\n",
       "      <td>11.1333</td>\n",
       "      <td>S</td>\n",
       "    </tr>\n",
       "    <tr>\n",
       "      <th>9</th>\n",
       "      <td>1</td>\n",
       "      <td>2</td>\n",
       "      <td>female</td>\n",
       "      <td>14.0</td>\n",
       "      <td>1</td>\n",
       "      <td>0</td>\n",
       "      <td>30.0708</td>\n",
       "      <td>C</td>\n",
       "    </tr>\n",
       "  </tbody>\n",
       "</table>\n",
       "</div>"
      ],
      "text/plain": [
       "   Survived  Pclass     Sex   Age  SibSp  Parch     Fare Embarked\n",
       "0         0       3    male  22.0      1      0   7.2500        S\n",
       "1         1       1  female  38.0      1      0  71.2833        C\n",
       "2         1       3  female  26.0      0      0   7.9250        S\n",
       "3         1       1  female  35.0      1      0  53.1000        S\n",
       "4         0       3    male  35.0      0      0   8.0500        S\n",
       "5         0       3    male   NaN      0      0   8.4583        Q\n",
       "6         0       1    male  54.0      0      0  51.8625        S\n",
       "7         0       3    male   2.0      3      1  21.0750        S\n",
       "8         1       3  female  27.0      0      2  11.1333        S\n",
       "9         1       2  female  14.0      1      0  30.0708        C"
      ]
     },
     "execution_count": 12,
     "metadata": {},
     "output_type": "execute_result"
    }
   ],
   "source": [
    "df.head(10)"
   ]
  },
  {
   "cell_type": "markdown",
   "id": "ecfb5ea6",
   "metadata": {
    "papermill": {
     "duration": 0.081138,
     "end_time": "2021-08-06T06:46:19.665393",
     "exception": false,
     "start_time": "2021-08-06T06:46:19.584255",
     "status": "completed"
    },
    "tags": []
   },
   "source": [
    "## 5. Looking for missing data"
   ]
  },
  {
   "cell_type": "code",
   "execution_count": 13,
   "id": "dc7677bb",
   "metadata": {
    "execution": {
     "iopub.execute_input": "2021-08-06T06:46:19.832433Z",
     "iopub.status.busy": "2021-08-06T06:46:19.831405Z",
     "iopub.status.idle": "2021-08-06T06:46:19.834503Z",
     "shell.execute_reply": "2021-08-06T06:46:19.833922Z",
     "shell.execute_reply.started": "2021-08-06T06:44:57.581197Z"
    },
    "papermill": {
     "duration": 0.088923,
     "end_time": "2021-08-06T06:46:19.834655",
     "exception": false,
     "start_time": "2021-08-06T06:46:19.745732",
     "status": "completed"
    },
    "tags": []
   },
   "outputs": [],
   "source": [
    "def missing_percent(df):\n",
    "    nan_percent= 100*(df.isnull().sum()/len(df))\n",
    "    nan_percent= nan_percent[nan_percent>0].sort_values()\n",
    "    return nan_percent    "
   ]
  },
  {
   "cell_type": "code",
   "execution_count": 14,
   "id": "69065974",
   "metadata": {
    "execution": {
     "iopub.execute_input": "2021-08-06T06:46:20.005142Z",
     "iopub.status.busy": "2021-08-06T06:46:20.004215Z",
     "iopub.status.idle": "2021-08-06T06:46:20.007931Z",
     "shell.execute_reply": "2021-08-06T06:46:20.008477Z",
     "shell.execute_reply.started": "2021-08-06T06:44:57.593409Z"
    },
    "papermill": {
     "duration": 0.093541,
     "end_time": "2021-08-06T06:46:20.008654",
     "exception": false,
     "start_time": "2021-08-06T06:46:19.915113",
     "status": "completed"
    },
    "tags": []
   },
   "outputs": [
    {
     "data": {
      "text/plain": [
       "Embarked     0.224467\n",
       "Age         19.865320\n",
       "dtype: float64"
      ]
     },
     "execution_count": 14,
     "metadata": {},
     "output_type": "execute_result"
    }
   ],
   "source": [
    "missing_percent(df)"
   ]
  },
  {
   "cell_type": "markdown",
   "id": "f9b05f34",
   "metadata": {
    "papermill": {
     "duration": 0.079822,
     "end_time": "2021-08-06T06:46:20.168702",
     "exception": false,
     "start_time": "2021-08-06T06:46:20.088880",
     "status": "completed"
    },
    "tags": []
   },
   "source": [
    "### 1. Let's deal with Age"
   ]
  },
  {
   "cell_type": "code",
   "execution_count": 15,
   "id": "8c2c6e2c",
   "metadata": {
    "execution": {
     "iopub.execute_input": "2021-08-06T06:46:20.335091Z",
     "iopub.status.busy": "2021-08-06T06:46:20.334169Z",
     "iopub.status.idle": "2021-08-06T06:46:20.338759Z",
     "shell.execute_reply": "2021-08-06T06:46:20.338155Z",
     "shell.execute_reply.started": "2021-08-06T06:44:57.609921Z"
    },
    "papermill": {
     "duration": 0.090401,
     "end_time": "2021-08-06T06:46:20.338892",
     "exception": false,
     "start_time": "2021-08-06T06:46:20.248491",
     "status": "completed"
    },
    "tags": []
   },
   "outputs": [
    {
     "data": {
      "text/plain": [
       "177"
      ]
     },
     "execution_count": 15,
     "metadata": {},
     "output_type": "execute_result"
    }
   ],
   "source": [
    "df[\"Age\"].isnull().sum()"
   ]
  },
  {
   "cell_type": "markdown",
   "id": "bfa8e77d",
   "metadata": {
    "papermill": {
     "duration": 0.079708,
     "end_time": "2021-08-06T06:46:20.499940",
     "exception": false,
     "start_time": "2021-08-06T06:46:20.420232",
     "status": "completed"
    },
    "tags": []
   },
   "source": [
    "### __Rougly 20% of the age data is missing, so we just put the mean age for each sex__."
   ]
  },
  {
   "cell_type": "code",
   "execution_count": 16,
   "id": "8e84d9ce",
   "metadata": {
    "execution": {
     "iopub.execute_input": "2021-08-06T06:46:20.668492Z",
     "iopub.status.busy": "2021-08-06T06:46:20.667816Z",
     "iopub.status.idle": "2021-08-06T06:46:20.670426Z",
     "shell.execute_reply": "2021-08-06T06:46:20.670850Z",
     "shell.execute_reply.started": "2021-08-06T06:44:57.622672Z"
    },
    "papermill": {
     "duration": 0.090421,
     "end_time": "2021-08-06T06:46:20.671040",
     "exception": false,
     "start_time": "2021-08-06T06:46:20.580619",
     "status": "completed"
    },
    "tags": []
   },
   "outputs": [],
   "source": [
    "import math\n",
    "female_mean, male_mean = df.groupby(\"Sex\")[\"Age\"].mean()\n",
    "def fill_age(age,sex):\n",
    "    if math.isnan(age):\n",
    "        if sex == \"male\":\n",
    "            return male_mean\n",
    "        else:\n",
    "            return female_mean\n",
    "    else:\n",
    "        return age"
   ]
  },
  {
   "cell_type": "code",
   "execution_count": 17,
   "id": "5700ad23",
   "metadata": {
    "execution": {
     "iopub.execute_input": "2021-08-06T06:46:20.837481Z",
     "iopub.status.busy": "2021-08-06T06:46:20.836707Z",
     "iopub.status.idle": "2021-08-06T06:46:20.859817Z",
     "shell.execute_reply": "2021-08-06T06:46:20.859171Z",
     "shell.execute_reply.started": "2021-08-06T06:44:57.635994Z"
    },
    "papermill": {
     "duration": 0.108429,
     "end_time": "2021-08-06T06:46:20.859971",
     "exception": false,
     "start_time": "2021-08-06T06:46:20.751542",
     "status": "completed"
    },
    "tags": []
   },
   "outputs": [],
   "source": [
    "df[\"Age\"] = df.apply(lambda row : fill_age(row[\"Age\"],row[\"Sex\"]),axis = 1)\n",
    "# df['Q'] = df.apply(lambda row: EOQ(row['D'], row['p'], ck, ch), axis=1)\n"
   ]
  },
  {
   "cell_type": "markdown",
   "id": "a5e6e047",
   "metadata": {
    "papermill": {
     "duration": 0.084554,
     "end_time": "2021-08-06T06:46:21.026100",
     "exception": false,
     "start_time": "2021-08-06T06:46:20.941546",
     "status": "completed"
    },
    "tags": []
   },
   "source": [
    "### 2. Now it's embarked time!"
   ]
  },
  {
   "cell_type": "code",
   "execution_count": 18,
   "id": "88283936",
   "metadata": {
    "execution": {
     "iopub.execute_input": "2021-08-06T06:46:21.194276Z",
     "iopub.status.busy": "2021-08-06T06:46:21.193434Z",
     "iopub.status.idle": "2021-08-06T06:46:21.198884Z",
     "shell.execute_reply": "2021-08-06T06:46:21.199435Z",
     "shell.execute_reply.started": "2021-08-06T06:44:57.662919Z"
    },
    "papermill": {
     "duration": 0.092675,
     "end_time": "2021-08-06T06:46:21.199633",
     "exception": false,
     "start_time": "2021-08-06T06:46:21.106958",
     "status": "completed"
    },
    "tags": []
   },
   "outputs": [
    {
     "data": {
      "text/plain": [
       "2"
      ]
     },
     "execution_count": 18,
     "metadata": {},
     "output_type": "execute_result"
    }
   ],
   "source": [
    "df[\"Embarked\"].isnull().sum() "
   ]
  },
  {
   "cell_type": "markdown",
   "id": "9e7dc1d9",
   "metadata": {
    "papermill": {
     "duration": 0.080443,
     "end_time": "2021-08-06T06:46:21.361818",
     "exception": false,
     "start_time": "2021-08-06T06:46:21.281375",
     "status": "completed"
    },
    "tags": []
   },
   "source": [
    "* __Only 2 rows are missing so we just delete those rows.__"
   ]
  },
  {
   "cell_type": "code",
   "execution_count": 19,
   "id": "410b72d7",
   "metadata": {
    "execution": {
     "iopub.execute_input": "2021-08-06T06:46:21.533280Z",
     "iopub.status.busy": "2021-08-06T06:46:21.532475Z",
     "iopub.status.idle": "2021-08-06T06:46:21.536479Z",
     "shell.execute_reply": "2021-08-06T06:46:21.535933Z",
     "shell.execute_reply.started": "2021-08-06T06:44:57.670920Z"
    },
    "papermill": {
     "duration": 0.093114,
     "end_time": "2021-08-06T06:46:21.536629",
     "exception": false,
     "start_time": "2021-08-06T06:46:21.443515",
     "status": "completed"
    },
    "tags": []
   },
   "outputs": [],
   "source": [
    "df = df.dropna()"
   ]
  },
  {
   "cell_type": "markdown",
   "id": "5a540273",
   "metadata": {
    "papermill": {
     "duration": 0.080575,
     "end_time": "2021-08-06T06:46:21.698614",
     "exception": false,
     "start_time": "2021-08-06T06:46:21.618039",
     "status": "completed"
    },
    "tags": []
   },
   "source": [
    "## 6. EDA!"
   ]
  },
  {
   "cell_type": "markdown",
   "id": "42bc056c",
   "metadata": {
    "papermill": {
     "duration": 0.081053,
     "end_time": "2021-08-06T06:46:21.860706",
     "exception": false,
     "start_time": "2021-08-06T06:46:21.779653",
     "status": "completed"
    },
    "tags": []
   },
   "source": [
    "#### First things first Pairplot!"
   ]
  },
  {
   "cell_type": "code",
   "execution_count": 20,
   "id": "fba533f5",
   "metadata": {
    "execution": {
     "iopub.execute_input": "2021-08-06T06:46:22.034803Z",
     "iopub.status.busy": "2021-08-06T06:46:22.032380Z",
     "iopub.status.idle": "2021-08-06T06:46:29.970560Z",
     "shell.execute_reply": "2021-08-06T06:46:29.969958Z",
     "shell.execute_reply.started": "2021-08-06T06:44:57.688057Z"
    },
    "papermill": {
     "duration": 8.026662,
     "end_time": "2021-08-06T06:46:29.970714",
     "exception": false,
     "start_time": "2021-08-06T06:46:21.944052",
     "status": "completed"
    },
    "tags": []
   },
   "outputs": [
    {
     "data": {
      "text/plain": [
       "<seaborn.axisgrid.PairGrid at 0x7f2272a04690>"
      ]
     },
     "execution_count": 20,
     "metadata": {},
     "output_type": "execute_result"
    },
    {
     "data": {
      "image/png": "[encoded data removed]",
      "text/plain": [
       "<Figure size 1080x1080 with 42 Axes>"
      ]
     },
     "metadata": {
      "needs_background": "light"
     },
     "output_type": "display_data"
    }
   ],
   "source": [
    "sns.pairplot(df)"
   ]
  },
  {
   "cell_type": "code",
   "execution_count": 21,
   "id": "5b81fde1",
   "metadata": {
    "execution": {
     "iopub.execute_input": "2021-08-06T06:46:30.152455Z",
     "iopub.status.busy": "2021-08-06T06:46:30.149433Z",
     "iopub.status.idle": "2021-08-06T06:46:30.375266Z",
     "shell.execute_reply": "2021-08-06T06:46:30.374687Z",
     "shell.execute_reply.started": "2021-08-06T06:45:04.892976Z"
    },
    "papermill": {
     "duration": 0.317865,
     "end_time": "2021-08-06T06:46:30.375418",
     "exception": false,
     "start_time": "2021-08-06T06:46:30.057553",
     "status": "completed"
    },
    "tags": []
   },
   "outputs": [
    {
     "data": {
      "text/plain": [
       "<AxesSubplot:xlabel='Sex', ylabel='Survived'>"
      ]
     },
     "execution_count": 21,
     "metadata": {},
     "output_type": "execute_result"
    },
    {
     "data": {
      "image/png": "[encoded data removed]",
      "text/plain": [
       "<Figure size 432x288 with 1 Axes>"
      ]
     },
     "metadata": {
      "needs_background": "light"
     },
     "output_type": "display_data"
    }
   ],
   "source": [
    "sns.barplot(x = df[\"Sex\"], y = df[\"Survived\"])"
   ]
  },
  {
   "cell_type": "markdown",
   "id": "10279d2a",
   "metadata": {
    "papermill": {
     "duration": 0.086042,
     "end_time": "2021-08-06T06:46:30.600231",
     "exception": false,
     "start_time": "2021-08-06T06:46:30.514189",
     "status": "completed"
    },
    "tags": []
   },
   "source": [
    "### Females tend to survive more by a large margin!"
   ]
  },
  {
   "cell_type": "code",
   "execution_count": 22,
   "id": "1e7af42e",
   "metadata": {
    "execution": {
     "iopub.execute_input": "2021-08-06T06:46:30.783200Z",
     "iopub.status.busy": "2021-08-06T06:46:30.781748Z",
     "iopub.status.idle": "2021-08-06T06:46:31.036340Z",
     "shell.execute_reply": "2021-08-06T06:46:31.035669Z",
     "shell.execute_reply.started": "2021-08-06T06:45:05.083104Z"
    },
    "papermill": {
     "duration": 0.350338,
     "end_time": "2021-08-06T06:46:31.036484",
     "exception": false,
     "start_time": "2021-08-06T06:46:30.686146",
     "status": "completed"
    },
    "tags": []
   },
   "outputs": [
    {
     "data": {
      "text/plain": [
       "<AxesSubplot:xlabel='Embarked', ylabel='Survived'>"
      ]
     },
     "execution_count": 22,
     "metadata": {},
     "output_type": "execute_result"
    },
    {
     "data": {
      "image/png": "[encoded data removed]",
      "text/plain": [
       "<Figure size 432x288 with 1 Axes>"
      ]
     },
     "metadata": {
      "needs_background": "light"
     },
     "output_type": "display_data"
    }
   ],
   "source": [
    "sns.barplot(x = df[\"Embarked\"], y = df[\"Survived\"])"
   ]
  },
  {
   "cell_type": "markdown",
   "id": "6c799aeb",
   "metadata": {
    "papermill": {
     "duration": 0.08779,
     "end_time": "2021-08-06T06:46:31.213771",
     "exception": false,
     "start_time": "2021-08-06T06:46:31.125981",
     "status": "completed"
    },
    "tags": []
   },
   "source": [
    "### Less survival rate by S embark, So there must be some relations!"
   ]
  },
  {
   "cell_type": "code",
   "execution_count": 23,
   "id": "da8bd984",
   "metadata": {
    "execution": {
     "iopub.execute_input": "2021-08-06T06:46:31.404681Z",
     "iopub.status.busy": "2021-08-06T06:46:31.403747Z",
     "iopub.status.idle": "2021-08-06T06:46:31.408420Z",
     "shell.execute_reply": "2021-08-06T06:46:31.407681Z",
     "shell.execute_reply.started": "2021-08-06T06:45:05.291131Z"
    },
    "papermill": {
     "duration": 0.106113,
     "end_time": "2021-08-06T06:46:31.408562",
     "exception": false,
     "start_time": "2021-08-06T06:46:31.302449",
     "status": "completed"
    },
    "tags": []
   },
   "outputs": [
    {
     "data": {
      "text/html": [
       "<div>\n",
       "<style scoped>\n",
       "    .dataframe tbody tr th:only-of-type {\n",
       "        vertical-align: middle;\n",
       "    }\n",
       "\n",
       "    .dataframe tbody tr th {\n",
       "        vertical-align: top;\n",
       "    }\n",
       "\n",
       "    .dataframe thead th {\n",
       "        text-align: right;\n",
       "    }\n",
       "</style>\n",
       "<table border=\"1\" class=\"dataframe\">\n",
       "  <thead>\n",
       "    <tr style=\"text-align: right;\">\n",
       "      <th></th>\n",
       "      <th>Survived</th>\n",
       "      <th>Pclass</th>\n",
       "      <th>Sex</th>\n",
       "      <th>Age</th>\n",
       "      <th>SibSp</th>\n",
       "      <th>Parch</th>\n",
       "      <th>Fare</th>\n",
       "      <th>Embarked</th>\n",
       "    </tr>\n",
       "  </thead>\n",
       "  <tbody>\n",
       "    <tr>\n",
       "      <th>0</th>\n",
       "      <td>0</td>\n",
       "      <td>3</td>\n",
       "      <td>male</td>\n",
       "      <td>22.0</td>\n",
       "      <td>1</td>\n",
       "      <td>0</td>\n",
       "      <td>7.2500</td>\n",
       "      <td>S</td>\n",
       "    </tr>\n",
       "    <tr>\n",
       "      <th>1</th>\n",
       "      <td>1</td>\n",
       "      <td>1</td>\n",
       "      <td>female</td>\n",
       "      <td>38.0</td>\n",
       "      <td>1</td>\n",
       "      <td>0</td>\n",
       "      <td>71.2833</td>\n",
       "      <td>C</td>\n",
       "    </tr>\n",
       "    <tr>\n",
       "      <th>2</th>\n",
       "      <td>1</td>\n",
       "      <td>3</td>\n",
       "      <td>female</td>\n",
       "      <td>26.0</td>\n",
       "      <td>0</td>\n",
       "      <td>0</td>\n",
       "      <td>7.9250</td>\n",
       "      <td>S</td>\n",
       "    </tr>\n",
       "    <tr>\n",
       "      <th>3</th>\n",
       "      <td>1</td>\n",
       "      <td>1</td>\n",
       "      <td>female</td>\n",
       "      <td>35.0</td>\n",
       "      <td>1</td>\n",
       "      <td>0</td>\n",
       "      <td>53.1000</td>\n",
       "      <td>S</td>\n",
       "    </tr>\n",
       "    <tr>\n",
       "      <th>4</th>\n",
       "      <td>0</td>\n",
       "      <td>3</td>\n",
       "      <td>male</td>\n",
       "      <td>35.0</td>\n",
       "      <td>0</td>\n",
       "      <td>0</td>\n",
       "      <td>8.0500</td>\n",
       "      <td>S</td>\n",
       "    </tr>\n",
       "  </tbody>\n",
       "</table>\n",
       "</div>"
      ],
      "text/plain": [
       "   Survived  Pclass     Sex   Age  SibSp  Parch     Fare Embarked\n",
       "0         0       3    male  22.0      1      0   7.2500        S\n",
       "1         1       1  female  38.0      1      0  71.2833        C\n",
       "2         1       3  female  26.0      0      0   7.9250        S\n",
       "3         1       1  female  35.0      1      0  53.1000        S\n",
       "4         0       3    male  35.0      0      0   8.0500        S"
      ]
     },
     "execution_count": 23,
     "metadata": {},
     "output_type": "execute_result"
    }
   ],
   "source": [
    "df.head()"
   ]
  },
  {
   "cell_type": "code",
   "execution_count": 24,
   "id": "b1dd50ea",
   "metadata": {
    "execution": {
     "iopub.execute_input": "2021-08-06T06:46:31.611566Z",
     "iopub.status.busy": "2021-08-06T06:46:31.609951Z",
     "iopub.status.idle": "2021-08-06T06:46:31.790171Z",
     "shell.execute_reply": "2021-08-06T06:46:31.789602Z",
     "shell.execute_reply.started": "2021-08-06T06:45:05.306458Z"
    },
    "papermill": {
     "duration": 0.293351,
     "end_time": "2021-08-06T06:46:31.790314",
     "exception": false,
     "start_time": "2021-08-06T06:46:31.496963",
     "status": "completed"
    },
    "tags": []
   },
   "outputs": [
    {
     "data": {
      "text/plain": [
       "<AxesSubplot:xlabel='Embarked', ylabel='Fare'>"
      ]
     },
     "execution_count": 24,
     "metadata": {},
     "output_type": "execute_result"
    },
    {
     "data": {
      "image/png": "[encoded data removed]",
      "text/plain": [
       "<Figure size 432x288 with 1 Axes>"
      ]
     },
     "metadata": {
      "needs_background": "light"
     },
     "output_type": "display_data"
    }
   ],
   "source": [
    "sns.boxplot(x = df[\"Embarked\"], y = df[\"Fare\"])"
   ]
  },
  {
   "cell_type": "markdown",
   "id": "870997ec",
   "metadata": {
    "papermill": {
     "duration": 0.094739,
     "end_time": "2021-08-06T06:46:31.982731",
     "exception": false,
     "start_time": "2021-08-06T06:46:31.887992",
     "status": "completed"
    },
    "tags": []
   },
   "source": [
    "#### Strong outliers over 400 price, Let's just remove them for now and take a better look "
   ]
  },
  {
   "cell_type": "code",
   "execution_count": 25,
   "id": "73f7774a",
   "metadata": {
    "execution": {
     "iopub.execute_input": "2021-08-06T06:46:32.193712Z",
     "iopub.status.busy": "2021-08-06T06:46:32.192963Z",
     "iopub.status.idle": "2021-08-06T06:46:32.196171Z",
     "shell.execute_reply": "2021-08-06T06:46:32.195518Z",
     "shell.execute_reply.started": "2021-08-06T06:45:05.469742Z"
    },
    "papermill": {
     "duration": 0.102227,
     "end_time": "2021-08-06T06:46:32.196321",
     "exception": false,
     "start_time": "2021-08-06T06:46:32.094094",
     "status": "completed"
    },
    "tags": []
   },
   "outputs": [],
   "source": [
    "index = df[df[\"Fare\"] > 450 ].index\n",
    "df.drop(index, axis = 0, inplace=True)"
   ]
  },
  {
   "cell_type": "code",
   "execution_count": 26,
   "id": "cb366504",
   "metadata": {
    "execution": {
     "iopub.execute_input": "2021-08-06T06:46:32.379837Z",
     "iopub.status.busy": "2021-08-06T06:46:32.379142Z",
     "iopub.status.idle": "2021-08-06T06:46:32.562415Z",
     "shell.execute_reply": "2021-08-06T06:46:32.562873Z",
     "shell.execute_reply.started": "2021-08-06T06:45:05.479185Z"
    },
    "papermill": {
     "duration": 0.276809,
     "end_time": "2021-08-06T06:46:32.563143",
     "exception": false,
     "start_time": "2021-08-06T06:46:32.286334",
     "status": "completed"
    },
    "tags": []
   },
   "outputs": [
    {
     "data": {
      "text/plain": [
       "<AxesSubplot:xlabel='Embarked', ylabel='Fare'>"
      ]
     },
     "execution_count": 26,
     "metadata": {},
     "output_type": "execute_result"
    },
    {
     "data": {
      "image/png": "[encoded data removed]",
      "text/plain": [
       "<Figure size 576x360 with 1 Axes>"
      ]
     },
     "metadata": {
      "needs_background": "light"
     },
     "output_type": "display_data"
    }
   ],
   "source": [
    "plt.figure(figsize=(8,5))\n",
    "sns.boxplot(x = df[\"Embarked\"], y = df[\"Fare\"])"
   ]
  },
  {
   "cell_type": "markdown",
   "id": "62bb7228",
   "metadata": {},
   "source": [
    "### 1. C embark is more expensive, maybe we can conclude that it's more premium than the others and maybe have better health guards and whatever, but clearly, if you paid more you had better chances of surviving.\n",
    "### 2. But Q embark is cheaper than S and interestingly, it has a better survival rate, so maybe your placement in ship matters more because these embarks show each cluster of people who are entering the ship simultaneously."
   ]
  },
  {
   "cell_type": "code",
   "execution_count": null,
   "id": "b0032354",
   "metadata": {},
   "outputs": [
    {
     "data": {
      "text/plain": [
       "<AxesSubplot:xlabel='Embarked', ylabel='Fare'>"
      ]
     },
     "execution_count": 27,
     "metadata": {},
     "output_type": "execute_result"
    },
    {
     "data": {
      "image/png": "[encoded data removed]",
      "text/plain": [
       "<Figure size 648x504 with 1 Axes>"
      ]
     },
     "metadata": {
      "needs_background": "light"
     },
     "output_type": "display_data"
    }
   ],
   "source": [
    "plt.figure(figsize=(9,7))\n",
    "sns.boxplot(x = df[\"Embarked\"], y = df[\"Fare\"],hue = df[\"Pclass\"])"
   ]
  },
  {
   "cell_type": "markdown",
   "id": "173c7a13",
   "metadata": {},
   "source": [
    "### So Q is mainly for the lower class and C can match our theory, Richer people got on board from C."
   ]
  },
  {
   "cell_type": "markdown",
   "id": "88d39b66",
   "metadata": {
    "papermill": {
     "duration": 0.090484,
     "end_time": "2021-08-06T06:46:33.639980",
     "exception": false,
     "start_time": "2021-08-06T06:46:33.549496",
     "status": "completed"
    },
    "tags": []
   },
   "source": [
    "### So now let's explore the mean age of each embark:"
   ]
  },
  {
   "cell_type": "markdown",
   "id": "d98683e5",
   "metadata": {
    "papermill": {
     "duration": 0.093115,
     "end_time": "2021-08-06T06:46:34.204576",
     "exception": false,
     "start_time": "2021-08-06T06:46:34.111461",
     "status": "completed"
    },
    "tags": []
   },
   "source": [
    "### It's pretty much normal so nothing to be worry about!"
   ]
  },
  {
   "cell_type": "markdown",
   "id": "e8e5d601",
   "metadata": {
    "papermill": {
     "duration": 0.094833,
     "end_time": "2021-08-06T06:46:34.752997",
     "exception": false,
     "start_time": "2021-08-06T06:46:34.658164",
     "status": "completed"
    },
    "tags": []
   },
   "source": [
    "### Wow, such discrimination! unfortunately, class 3 almost didn't make it alive :("
   ]
  },
  {
   "cell_type": "markdown",
   "id": "492e5229",
   "metadata": {
    "papermill": {
     "duration": 0.09597,
     "end_time": "2021-08-06T06:46:35.730509",
     "exception": false,
     "start_time": "2021-08-06T06:46:35.634539",
     "status": "completed"
    },
    "tags": []
   },
   "source": [
    "#### Corr matrix time!"
   ]
  },
  {
   "cell_type": "code",
   "execution_count": 32,
   "id": "fa2379eb",
   "metadata": {
    "execution": {
     "iopub.execute_input": "2021-08-06T06:46:35.927893Z",
     "iopub.status.busy": "2021-08-06T06:46:35.927151Z",
     "iopub.status.idle": "2021-08-06T06:46:36.515682Z",
     "shell.execute_reply": "2021-08-06T06:46:36.515136Z",
     "shell.execute_reply.started": "2021-08-06T06:45:06.631866Z"
    },
    "papermill": {
     "duration": 0.688087,
     "end_time": "2021-08-06T06:46:36.515843",
     "exception": false,
     "start_time": "2021-08-06T06:46:35.827756",
     "status": "completed"
    },
    "tags": []
   },
   "outputs": [
    {
     "data": {
      "image/png": "[encoded data removed]",
      "text/plain": [
       "<Figure size 576x576 with 2 Axes>"
      ]
     },
     "metadata": {
      "needs_background": "light"
     },
     "output_type": "display_data"
    }
   ],
   "source": [
    "a = df.corr()\n",
    "plt.figure(figsize=(8,8))\n",
    "k = 10\n",
    "cols = a.nlargest(k, 'Survived')['Survived'].index\n",
    "cm = np.corrcoef(df[cols].values.T)\n",
    "sns.set(font_scale=1.25)\n",
    "hm = sns.heatmap(cm, annot=True, square=True, fmt='.2f', annot_kws={'size': 12}, yticklabels=cols.values, xticklabels=cols.values)\n",
    "plt.show()"
   ]
  },
  {
   "cell_type": "code",
   "execution_count": 33,
   "id": "975418af",
   "metadata": {
    "execution": {
     "iopub.execute_input": "2021-08-06T06:46:36.737502Z",
     "iopub.status.busy": "2021-08-06T06:46:36.736449Z",
     "iopub.status.idle": "2021-08-06T06:46:36.969432Z",
     "shell.execute_reply": "2021-08-06T06:46:36.969934Z",
     "shell.execute_reply.started": "2021-08-06T06:45:07.179144Z"
    },
    "papermill": {
     "duration": 0.356333,
     "end_time": "2021-08-06T06:46:36.970123",
     "exception": false,
     "start_time": "2021-08-06T06:46:36.613790",
     "status": "completed"
    },
    "tags": []
   },
   "outputs": [
    {
     "data": {
      "text/plain": [
       "<matplotlib.lines.Line2D at 0x7f226ccabf50>"
      ]
     },
     "execution_count": 33,
     "metadata": {},
     "output_type": "execute_result"
    },
    {
     "data": {
      "image/png": "[encoded data removed]",
      "text/plain": [
       "<Figure size 432x288 with 1 Axes>"
      ]
     },
     "metadata": {},
     "output_type": "display_data"
    }
   ],
   "source": [
    "sns.scatterplot(x = df[\"Fare\"], y = df[\"Survived\"])\n",
    "plt.axvline(500, color = 'r')"
   ]
  },
  {
   "cell_type": "markdown",
   "id": "e6dcb1dd",
   "metadata": {
    "papermill": {
     "duration": 0.098378,
     "end_time": "2021-08-06T06:46:37.167614",
     "exception": false,
     "start_time": "2021-08-06T06:46:37.069236",
     "status": "completed"
    },
    "tags": []
   },
   "source": [
    "* One outlier after 500 "
   ]
  },
  {
   "cell_type": "code",
   "execution_count": 34,
   "id": "9dd7913e",
   "metadata": {
    "execution": {
     "iopub.execute_input": "2021-08-06T06:46:37.369970Z",
     "iopub.status.busy": "2021-08-06T06:46:37.368966Z",
     "iopub.status.idle": "2021-08-06T06:46:37.381633Z",
     "shell.execute_reply": "2021-08-06T06:46:37.380920Z",
     "shell.execute_reply.started": "2021-08-06T06:45:07.466220Z"
    },
    "papermill": {
     "duration": 0.114628,
     "end_time": "2021-08-06T06:46:37.381779",
     "exception": false,
     "start_time": "2021-08-06T06:46:37.267151",
     "status": "completed"
    },
    "tags": []
   },
   "outputs": [
    {
     "data": {
      "text/html": [
       "<div>\n",
       "<style scoped>\n",
       "    .dataframe tbody tr th:only-of-type {\n",
       "        vertical-align: middle;\n",
       "    }\n",
       "\n",
       "    .dataframe tbody tr th {\n",
       "        vertical-align: top;\n",
       "    }\n",
       "\n",
       "    .dataframe thead th {\n",
       "        text-align: right;\n",
       "    }\n",
       "</style>\n",
       "<table border=\"1\" class=\"dataframe\">\n",
       "  <thead>\n",
       "    <tr style=\"text-align: right;\">\n",
       "      <th></th>\n",
       "      <th>Survived</th>\n",
       "      <th>Pclass</th>\n",
       "      <th>Sex</th>\n",
       "      <th>Age</th>\n",
       "      <th>SibSp</th>\n",
       "      <th>Parch</th>\n",
       "      <th>Fare</th>\n",
       "      <th>Embarked</th>\n",
       "    </tr>\n",
       "  </thead>\n",
       "  <tbody>\n",
       "  </tbody>\n",
       "</table>\n",
       "</div>"
      ],
      "text/plain": [
       "Empty DataFrame\n",
       "Columns: [Survived, Pclass, Sex, Age, SibSp, Parch, Fare, Embarked]\n",
       "Index: []"
      ]
     },
     "execution_count": 34,
     "metadata": {},
     "output_type": "execute_result"
    }
   ],
   "source": [
    "index = df[df[\"Fare\"] > 500].index\n",
    "df.loc[index,:]"
   ]
  },
  {
   "cell_type": "code",
   "execution_count": 35,
   "id": "142a36dd",
   "metadata": {
    "execution": {
     "iopub.execute_input": "2021-08-06T06:46:37.589552Z",
     "iopub.status.busy": "2021-08-06T06:46:37.588793Z",
     "iopub.status.idle": "2021-08-06T06:46:37.591481Z",
     "shell.execute_reply": "2021-08-06T06:46:37.591959Z",
     "shell.execute_reply.started": "2021-08-06T06:45:07.480636Z"
    },
    "papermill": {
     "duration": 0.108983,
     "end_time": "2021-08-06T06:46:37.592156",
     "exception": false,
     "start_time": "2021-08-06T06:46:37.483173",
     "status": "completed"
    },
    "tags": []
   },
   "outputs": [],
   "source": [
    "df.drop(index,inplace=True)"
   ]
  },
  {
   "cell_type": "code",
   "execution_count": 36,
   "id": "498aff7a",
   "metadata": {
    "execution": {
     "iopub.execute_input": "2021-08-06T06:46:37.813995Z",
     "iopub.status.busy": "2021-08-06T06:46:37.812885Z",
     "iopub.status.idle": "2021-08-06T06:46:38.120832Z",
     "shell.execute_reply": "2021-08-06T06:46:38.120294Z",
     "shell.execute_reply.started": "2021-08-06T06:45:07.493859Z"
    },
    "papermill": {
     "duration": 0.429283,
     "end_time": "2021-08-06T06:46:38.121048",
     "exception": false,
     "start_time": "2021-08-06T06:46:37.691765",
     "status": "completed"
    },
    "tags": []
   },
   "outputs": [
    {
     "data": {
      "text/plain": [
       "<matplotlib.lines.Line2D at 0x7f226cdf3110>"
      ]
     },
     "execution_count": 36,
     "metadata": {},
     "output_type": "execute_result"
    },
    {
     "data": {
      "image/png": "[encoded data removed]",
      "text/plain": [
       "<Figure size 432x288 with 1 Axes>"
      ]
     },
     "metadata": {},
     "output_type": "display_data"
    }
   ],
   "source": [
    "sns.scatterplot(x = df[\"Fare\"], y = df[\"Survived\"])\n",
    "plt.axvline(500, color = 'r')"
   ]
  },
  {
   "cell_type": "markdown",
   "id": "2991628f",
   "metadata": {
    "papermill": {
     "duration": 0.101014,
     "end_time": "2021-08-06T06:46:38.325117",
     "exception": false,
     "start_time": "2021-08-06T06:46:38.224103",
     "status": "completed"
    },
    "tags": []
   },
   "source": [
    "## 7. Feature Selection"
   ]
  },
  {
   "cell_type": "code",
   "execution_count": 37,
   "id": "b6c7ee84",
   "metadata": {
    "execution": {
     "iopub.execute_input": "2021-08-06T06:46:38.535322Z",
     "iopub.status.busy": "2021-08-06T06:46:38.534580Z",
     "iopub.status.idle": "2021-08-06T06:46:38.538174Z",
     "shell.execute_reply": "2021-08-06T06:46:38.537597Z",
     "shell.execute_reply.started": "2021-08-06T06:45:07.775571Z"
    },
    "papermill": {
     "duration": 0.112163,
     "end_time": "2021-08-06T06:46:38.538317",
     "exception": false,
     "start_time": "2021-08-06T06:46:38.426154",
     "status": "completed"
    },
    "tags": []
   },
   "outputs": [],
   "source": [
    "def change_sex(sex):\n",
    "    if sex == \"male\":\n",
    "        return 1\n",
    "    elif sex == \"female\":\n",
    "        return 0"
   ]
  },
  {
   "cell_type": "markdown",
   "id": "10e47589",
   "metadata": {
    "papermill": {
     "duration": 0.100241,
     "end_time": "2021-08-06T06:46:38.740568",
     "exception": false,
     "start_time": "2021-08-06T06:46:38.640327",
     "status": "completed"
    },
    "tags": []
   },
   "source": [
    "* Male will be 1 and female will be 0"
   ]
  },
  {
   "cell_type": "code",
   "execution_count": 38,
   "id": "af6e0b05",
   "metadata": {
    "execution": {
     "iopub.execute_input": "2021-08-06T06:46:38.962762Z",
     "iopub.status.busy": "2021-08-06T06:46:38.961756Z",
     "iopub.status.idle": "2021-08-06T06:46:38.964859Z",
     "shell.execute_reply": "2021-08-06T06:46:38.964314Z",
     "shell.execute_reply.started": "2021-08-06T06:45:07.780888Z"
    },
    "papermill": {
     "duration": 0.123259,
     "end_time": "2021-08-06T06:46:38.965000",
     "exception": false,
     "start_time": "2021-08-06T06:46:38.841741",
     "status": "completed"
    },
    "tags": []
   },
   "outputs": [],
   "source": [
    "df[\"Sex\"] = df.apply(lambda row : change_sex(row[\"Sex\"]),axis = 1)"
   ]
  },
  {
   "cell_type": "code",
   "execution_count": 39,
   "id": "e8607f5e",
   "metadata": {
    "execution": {
     "iopub.execute_input": "2021-08-06T06:46:39.176797Z",
     "iopub.status.busy": "2021-08-06T06:46:39.176097Z",
     "iopub.status.idle": "2021-08-06T06:46:39.180545Z",
     "shell.execute_reply": "2021-08-06T06:46:39.179996Z",
     "shell.execute_reply.started": "2021-08-06T06:45:07.806973Z"
    },
    "papermill": {
     "duration": 0.113972,
     "end_time": "2021-08-06T06:46:39.180690",
     "exception": false,
     "start_time": "2021-08-06T06:46:39.066718",
     "status": "completed"
    },
    "tags": []
   },
   "outputs": [
    {
     "data": {
      "text/plain": [
       "S    644\n",
       "C    165\n",
       "Q     77\n",
       "Name: Embarked, dtype: int64"
      ]
     },
     "execution_count": 39,
     "metadata": {},
     "output_type": "execute_result"
    }
   ],
   "source": [
    "df[\"Embarked\"].value_counts()"
   ]
  },
  {
   "cell_type": "markdown",
   "id": "95fe9059",
   "metadata": {
    "papermill": {
     "duration": 0.100232,
     "end_time": "2021-08-06T06:46:39.381646",
     "exception": false,
     "start_time": "2021-08-06T06:46:39.281414",
     "status": "completed"
    },
    "tags": []
   },
   "source": [
    "* S -> 0\n",
    "* C -> 1\n",
    "* Q -> 2"
   ]
  },
  {
   "cell_type": "code",
   "execution_count": 40,
   "id": "5c77b0eb",
   "metadata": {
    "execution": {
     "iopub.execute_input": "2021-08-06T06:46:39.589985Z",
     "iopub.status.busy": "2021-08-06T06:46:39.589322Z",
     "iopub.status.idle": "2021-08-06T06:46:39.592370Z",
     "shell.execute_reply": "2021-08-06T06:46:39.591831Z",
     "shell.execute_reply.started": "2021-08-06T06:45:07.824054Z"
    },
    "papermill": {
     "duration": 0.109165,
     "end_time": "2021-08-06T06:46:39.592516",
     "exception": false,
     "start_time": "2021-08-06T06:46:39.483351",
     "status": "completed"
    },
    "tags": []
   },
   "outputs": [],
   "source": [
    "def change_em(em):\n",
    "    if em == \"S\":\n",
    "        return 0\n",
    "    elif em == \"C\":\n",
    "        return 1\n",
    "    elif em == \"Q\":\n",
    "        return 2"
   ]
  },
  {
   "cell_type": "code",
   "execution_count": 41,
   "id": "70a6943a",
   "metadata": {
    "execution": {
     "iopub.execute_input": "2021-08-06T06:46:39.814608Z",
     "iopub.status.busy": "2021-08-06T06:46:39.813604Z",
     "iopub.status.idle": "2021-08-06T06:46:39.816879Z",
     "shell.execute_reply": "2021-08-06T06:46:39.816325Z",
     "shell.execute_reply.started": "2021-08-06T06:45:07.832488Z"
    },
    "papermill": {
     "duration": 0.124028,
     "end_time": "2021-08-06T06:46:39.817034",
     "exception": false,
     "start_time": "2021-08-06T06:46:39.693006",
     "status": "completed"
    },
    "tags": []
   },
   "outputs": [],
   "source": [
    "df[\"Embarked\"] = df.apply(lambda row : change_em(row[\"Embarked\"]),axis = 1)"
   ]
  },
  {
   "cell_type": "code",
   "execution_count": 42,
   "id": "e933cf3a",
   "metadata": {
    "execution": {
     "iopub.execute_input": "2021-08-06T06:46:40.024599Z",
     "iopub.status.busy": "2021-08-06T06:46:40.023899Z",
     "iopub.status.idle": "2021-08-06T06:46:40.029651Z",
     "shell.execute_reply": "2021-08-06T06:46:40.030152Z",
     "shell.execute_reply.started": "2021-08-06T06:45:07.856250Z"
    },
    "papermill": {
     "duration": 0.111156,
     "end_time": "2021-08-06T06:46:40.030345",
     "exception": false,
     "start_time": "2021-08-06T06:46:39.919189",
     "status": "completed"
    },
    "tags": []
   },
   "outputs": [],
   "source": [
    "X = df.drop(\"Survived\",axis = 1)\n",
    "y= df[\"Survived\"]"
   ]
  },
  {
   "cell_type": "markdown",
   "id": "0d4b7fb4",
   "metadata": {
    "papermill": {
     "duration": 0.100644,
     "end_time": "2021-08-06T06:46:40.232631",
     "exception": false,
     "start_time": "2021-08-06T06:46:40.131987",
     "status": "completed"
    },
    "tags": []
   },
   "source": [
    "## 8. Split data"
   ]
  },
  {
   "cell_type": "code",
   "execution_count": 43,
   "id": "ae9c841d",
   "metadata": {
    "execution": {
     "iopub.execute_input": "2021-08-06T06:46:40.442774Z",
     "iopub.status.busy": "2021-08-06T06:46:40.442073Z",
     "iopub.status.idle": "2021-08-06T06:46:40.622713Z",
     "shell.execute_reply": "2021-08-06T06:46:40.623251Z",
     "shell.execute_reply.started": "2021-08-06T06:45:07.863314Z"
    },
    "papermill": {
     "duration": 0.289595,
     "end_time": "2021-08-06T06:46:40.623470",
     "exception": false,
     "start_time": "2021-08-06T06:46:40.333875",
     "status": "completed"
    },
    "tags": []
   },
   "outputs": [],
   "source": [
    "from sklearn.model_selection import train_test_split\n",
    "\n",
    "X_train, X_test, y_train, y_test = train_test_split(X,y, test_size=0.33)"
   ]
  },
  {
   "cell_type": "markdown",
   "id": "ca827568",
   "metadata": {
    "papermill": {
     "duration": 0.101833,
     "end_time": "2021-08-06T06:46:40.826391",
     "exception": false,
     "start_time": "2021-08-06T06:46:40.724558",
     "status": "completed"
    },
    "tags": []
   },
   "source": [
    "## 9. Scaling the features"
   ]
  },
  {
   "cell_type": "code",
   "execution_count": 44,
   "id": "395c1394",
   "metadata": {
    "execution": {
     "iopub.execute_input": "2021-08-06T06:46:41.036160Z",
     "iopub.status.busy": "2021-08-06T06:46:41.035483Z",
     "iopub.status.idle": "2021-08-06T06:46:41.037507Z",
     "shell.execute_reply": "2021-08-06T06:46:41.037957Z",
     "shell.execute_reply.started": "2021-08-06T06:45:08.066985Z"
    },
    "papermill": {
     "duration": 0.109652,
     "end_time": "2021-08-06T06:46:41.038154",
     "exception": false,
     "start_time": "2021-08-06T06:46:40.928502",
     "status": "completed"
    },
    "tags": []
   },
   "outputs": [],
   "source": [
    "from sklearn.preprocessing import StandardScaler\n",
    "\n",
    "scaler= StandardScaler()"
   ]
  },
  {
   "cell_type": "code",
   "execution_count": 45,
   "id": "8a9e474a",
   "metadata": {
    "execution": {
     "iopub.execute_input": "2021-08-06T06:46:41.244950Z",
     "iopub.status.busy": "2021-08-06T06:46:41.244332Z",
     "iopub.status.idle": "2021-08-06T06:46:41.253978Z",
     "shell.execute_reply": "2021-08-06T06:46:41.254535Z",
     "shell.execute_reply.started": "2021-08-06T06:45:08.071998Z"
    },
    "papermill": {
     "duration": 0.114291,
     "end_time": "2021-08-06T06:46:41.254707",
     "exception": false,
     "start_time": "2021-08-06T06:46:41.140416",
     "status": "completed"
    },
    "tags": []
   },
   "outputs": [
    {
     "data": {
      "text/plain": [
       "StandardScaler()"
      ]
     },
     "execution_count": 45,
     "metadata": {},
     "output_type": "execute_result"
    }
   ],
   "source": [
    "scaler.fit(X_train)"
   ]
  },
  {
   "cell_type": "code",
   "execution_count": 46,
   "id": "47f2872f",
   "metadata": {
    "execution": {
     "iopub.execute_input": "2021-08-06T06:46:41.466823Z",
     "iopub.status.busy": "2021-08-06T06:46:41.460491Z",
     "iopub.status.idle": "2021-08-06T06:46:41.470163Z",
     "shell.execute_reply": "2021-08-06T06:46:41.469479Z",
     "shell.execute_reply.started": "2021-08-06T06:45:08.093289Z"
    },
    "papermill": {
     "duration": 0.114119,
     "end_time": "2021-08-06T06:46:41.470317",
     "exception": false,
     "start_time": "2021-08-06T06:46:41.356198",
     "status": "completed"
    },
    "tags": []
   },
   "outputs": [],
   "source": [
    "X_train = scaler.transform(X_train)\n",
    "X_test = scaler.transform(X_test)"
   ]
  },
  {
   "cell_type": "markdown",
   "id": "042b8173",
   "metadata": {
    "papermill": {
     "duration": 0.101357,
     "end_time": "2021-08-06T06:46:41.674224",
     "exception": false,
     "start_time": "2021-08-06T06:46:41.572867",
     "status": "completed"
    },
    "tags": []
   },
   "source": [
    "## Now Let's try Logistic Reggresion"
   ]
  },
  {
   "cell_type": "markdown",
   "id": "c08c5976",
   "metadata": {
    "papermill": {
     "duration": 0.102794,
     "end_time": "2021-08-06T06:46:41.878711",
     "exception": false,
     "start_time": "2021-08-06T06:46:41.775917",
     "status": "completed"
    },
    "tags": []
   },
   "source": [
    "## 10. Train the model"
   ]
  },
  {
   "cell_type": "code",
   "execution_count": 47,
   "id": "af4ceb4f",
   "metadata": {
    "execution": {
     "iopub.execute_input": "2021-08-06T06:46:42.092421Z",
     "iopub.status.busy": "2021-08-06T06:46:42.091621Z",
     "iopub.status.idle": "2021-08-06T06:46:42.326805Z",
     "shell.execute_reply": "2021-08-06T06:46:42.327283Z",
     "shell.execute_reply.started": "2021-08-06T06:45:08.104289Z"
    },
    "papermill": {
     "duration": 0.343303,
     "end_time": "2021-08-06T06:46:42.327470",
     "exception": false,
     "start_time": "2021-08-06T06:46:41.984167",
     "status": "completed"
    },
    "tags": []
   },
   "outputs": [
    {
     "data": {
      "text/plain": [
       "LogisticRegression()"
      ]
     },
     "execution_count": 47,
     "metadata": {},
     "output_type": "execute_result"
    }
   ],
   "source": [
    "from sklearn.linear_model import LogisticRegression\n",
    "model = LogisticRegression()\n",
    "model.fit(X_train,y_train)"
   ]
  },
  {
   "cell_type": "markdown",
   "id": "eb6274a2",
   "metadata": {
    "papermill": {
     "duration": 0.103066,
     "end_time": "2021-08-06T06:46:42.533888",
     "exception": false,
     "start_time": "2021-08-06T06:46:42.430822",
     "status": "completed"
    },
    "tags": []
   },
   "source": [
    "## 11. Predicting test data"
   ]
  },
  {
   "cell_type": "code",
   "execution_count": 48,
   "id": "67946f5b",
   "metadata": {
    "execution": {
     "iopub.execute_input": "2021-08-06T06:46:42.742074Z",
     "iopub.status.busy": "2021-08-06T06:46:42.741344Z",
     "iopub.status.idle": "2021-08-06T06:46:42.747739Z",
     "shell.execute_reply": "2021-08-06T06:46:42.748261Z",
     "shell.execute_reply.started": "2021-08-06T06:45:08.400356Z"
    },
    "papermill": {
     "duration": 0.112273,
     "end_time": "2021-08-06T06:46:42.748443",
     "exception": false,
     "start_time": "2021-08-06T06:46:42.636170",
     "status": "completed"
    },
    "tags": []
   },
   "outputs": [
    {
     "data": {
      "text/plain": [
       "array([0, 0, 0, 0, 1, 1, 0, 0, 0, 0, 0, 1, 0, 0, 0, 0, 0, 0, 1, 1, 0, 1,\n",
       "       1, 1, 0, 0, 0, 0, 0, 0, 1, 1, 1, 0, 0, 1, 0, 0, 0, 0, 0, 0, 1, 1,\n",
       "       0, 0, 0, 1, 1, 0, 0, 1, 1, 1, 0, 0, 0, 0, 1, 1, 0, 0, 0, 1, 0, 0,\n",
       "       1, 1, 1, 0, 1, 0, 1, 0, 1, 1, 0, 0, 0, 0, 0, 0, 0, 1, 1, 1, 0, 0,\n",
       "       1, 1, 0, 0, 0, 0, 1, 1, 0, 0, 1, 1, 0, 0, 0, 0, 0, 1, 0, 0, 0, 0,\n",
       "       1, 1, 0, 0, 0, 0, 0, 1, 0, 0, 0, 0, 1, 0, 0, 0, 0, 0, 0, 0, 0, 1,\n",
       "       0, 0, 1, 0, 0, 0, 0, 1, 1, 0, 0, 0, 1, 0, 0, 0, 1, 1, 1, 0, 0, 0,\n",
       "       0, 0, 0, 0, 1, 1, 1, 1, 0, 0, 0, 0, 1, 1, 1, 1, 1, 0, 0, 1, 0, 1,\n",
       "       0, 1, 0, 0, 1, 0, 0, 1, 0, 1, 0, 0, 0, 0, 0, 1, 1, 1, 0, 1, 1, 1,\n",
       "       1, 0, 0, 1, 0, 0, 1, 0, 0, 1, 0, 1, 0, 0, 0, 0, 0, 0, 1, 1, 0, 0,\n",
       "       0, 1, 0, 0, 1, 0, 0, 1, 1, 1, 1, 1, 0, 0, 0, 1, 1, 0, 0, 0, 1, 0,\n",
       "       0, 1, 0, 1, 1, 1, 1, 1, 0, 0, 1, 0, 1, 1, 1, 0, 0, 0, 0, 0, 0, 0,\n",
       "       0, 1, 0, 1, 0, 0, 0, 0, 1, 0, 0, 1, 0, 1, 1, 0, 0, 0, 0, 0, 0, 0,\n",
       "       1, 1, 1, 0, 1, 1, 0])"
      ]
     },
     "execution_count": 48,
     "metadata": {},
     "output_type": "execute_result"
    }
   ],
   "source": [
    "y_pred = model.predict(X_test)\n",
    "y_pred"
   ]
  },
  {
   "cell_type": "markdown",
   "id": "c2ed800f",
   "metadata": {
    "papermill": {
     "duration": 0.102912,
     "end_time": "2021-08-06T06:46:42.955145",
     "exception": false,
     "start_time": "2021-08-06T06:46:42.852233",
     "status": "completed"
    },
    "tags": []
   },
   "source": [
    "## 12. Evaluating the model"
   ]
  },
  {
   "cell_type": "code",
   "execution_count": 49,
   "id": "7c4bc618",
   "metadata": {
    "execution": {
     "iopub.execute_input": "2021-08-06T06:46:43.166188Z",
     "iopub.status.busy": "2021-08-06T06:46:43.165463Z",
     "iopub.status.idle": "2021-08-06T06:46:43.169659Z",
     "shell.execute_reply": "2021-08-06T06:46:43.170179Z",
     "shell.execute_reply.started": "2021-08-06T06:45:08.409460Z"
    },
    "papermill": {
     "duration": 0.111057,
     "end_time": "2021-08-06T06:46:43.170378",
     "exception": false,
     "start_time": "2021-08-06T06:46:43.059321",
     "status": "completed"
    },
    "tags": []
   },
   "outputs": [],
   "source": [
    "from sklearn.metrics import accuracy_score, confusion_matrix, classification_report, plot_confusion_matrix"
   ]
  },
  {
   "cell_type": "code",
   "execution_count": 50,
   "id": "95d8ad29",
   "metadata": {
    "execution": {
     "iopub.execute_input": "2021-08-06T06:46:43.381122Z",
     "iopub.status.busy": "2021-08-06T06:46:43.380392Z",
     "iopub.status.idle": "2021-08-06T06:46:43.385759Z",
     "shell.execute_reply": "2021-08-06T06:46:43.386305Z",
     "shell.execute_reply.started": "2021-08-06T06:45:08.422042Z"
    },
    "papermill": {
     "duration": 0.113265,
     "end_time": "2021-08-06T06:46:43.386480",
     "exception": false,
     "start_time": "2021-08-06T06:46:43.273215",
     "status": "completed"
    },
    "tags": []
   },
   "outputs": [
    {
     "data": {
      "text/plain": [
       "0.7815699658703071"
      ]
     },
     "execution_count": 50,
     "metadata": {},
     "output_type": "execute_result"
    }
   ],
   "source": [
    "accuracy_score(y_test, y_pred)"
   ]
  },
  {
   "cell_type": "code",
   "execution_count": 51,
   "id": "79b177fa",
   "metadata": {
    "execution": {
     "iopub.execute_input": "2021-08-06T06:46:43.597635Z",
     "iopub.status.busy": "2021-08-06T06:46:43.596792Z",
     "iopub.status.idle": "2021-08-06T06:46:43.605826Z",
     "shell.execute_reply": "2021-08-06T06:46:43.606490Z",
     "shell.execute_reply.started": "2021-08-06T06:45:08.436951Z"
    },
    "papermill": {
     "duration": 0.115377,
     "end_time": "2021-08-06T06:46:43.606677",
     "exception": false,
     "start_time": "2021-08-06T06:46:43.491300",
     "status": "completed"
    },
    "tags": []
   },
   "outputs": [
    {
     "data": {
      "text/plain": [
       "array([[147,  28],\n",
       "       [ 36,  82]])"
      ]
     },
     "execution_count": 51,
     "metadata": {},
     "output_type": "execute_result"
    }
   ],
   "source": [
    "confusion_matrix(y_test, y_pred)"
   ]
  },
  {
   "cell_type": "code",
   "execution_count": 52,
   "id": "83626596",
   "metadata": {
    "execution": {
     "iopub.execute_input": "2021-08-06T06:46:43.823371Z",
     "iopub.status.busy": "2021-08-06T06:46:43.822678Z",
     "iopub.status.idle": "2021-08-06T06:46:44.047481Z",
     "shell.execute_reply": "2021-08-06T06:46:44.047961Z",
     "shell.execute_reply.started": "2021-08-06T06:45:08.451937Z"
    },
    "papermill": {
     "duration": 0.336057,
     "end_time": "2021-08-06T06:46:44.048162",
     "exception": false,
     "start_time": "2021-08-06T06:46:43.712105",
     "status": "completed"
    },
    "tags": []
   },
   "outputs": [
    {
     "data": {
      "text/plain": [
       "<sklearn.metrics._plot.confusion_matrix.ConfusionMatrixDisplay at 0x7f226cac0350>"
      ]
     },
     "execution_count": 52,
     "metadata": {},
     "output_type": "execute_result"
    },
    {
     "data": {
      "image/png": "[encoded data removed]",
      "text/plain": [
       "<Figure size 432x288 with 2 Axes>"
      ]
     },
     "metadata": {},
     "output_type": "display_data"
    }
   ],
   "source": [
    "plot_confusion_matrix(model, X_test, y_test)"
   ]
  },
  {
   "cell_type": "code",
   "execution_count": 53,
   "id": "d90d1ce2",
   "metadata": {
    "execution": {
     "iopub.execute_input": "2021-08-06T06:46:44.265937Z",
     "iopub.status.busy": "2021-08-06T06:46:44.264828Z",
     "iopub.status.idle": "2021-08-06T06:46:44.275346Z",
     "shell.execute_reply": "2021-08-06T06:46:44.274704Z",
     "shell.execute_reply.started": "2021-08-06T06:45:08.670922Z"
    },
    "papermill": {
     "duration": 0.119643,
     "end_time": "2021-08-06T06:46:44.275501",
     "exception": false,
     "start_time": "2021-08-06T06:46:44.155858",
     "status": "completed"
    },
    "tags": []
   },
   "outputs": [
    {
     "name": "stdout",
     "output_type": "stream",
     "text": [
      "              precision    recall  f1-score   support\n",
      "\n",
      "           0       0.80      0.84      0.82       175\n",
      "           1       0.75      0.69      0.72       118\n",
      "\n",
      "    accuracy                           0.78       293\n",
      "   macro avg       0.77      0.77      0.77       293\n",
      "weighted avg       0.78      0.78      0.78       293\n",
      "\n"
     ]
    }
   ],
   "source": [
    "print(classification_report(y_test, y_pred))"
   ]
  },
  {
   "cell_type": "markdown",
   "id": "7e9c2e4e",
   "metadata": {
    "papermill": {
     "duration": 0.103629,
     "end_time": "2021-08-06T06:46:44.483840",
     "exception": false,
     "start_time": "2021-08-06T06:46:44.380211",
     "status": "completed"
    },
    "tags": []
   },
   "source": [
    "### Scored 0.777 with Logistic Regression method"
   ]
  },
  {
   "cell_type": "markdown",
   "id": "2ba29a56",
   "metadata": {
    "papermill": {
     "duration": 0.103915,
     "end_time": "2021-08-06T06:46:44.695130",
     "exception": false,
     "start_time": "2021-08-06T06:46:44.591215",
     "status": "completed"
    },
    "tags": []
   },
   "source": [
    "## Now Let's do it with KNN method"
   ]
  },
  {
   "cell_type": "markdown",
   "id": "3b616fca",
   "metadata": {
    "papermill": {
     "duration": 0.105524,
     "end_time": "2021-08-06T06:46:44.906746",
     "exception": false,
     "start_time": "2021-08-06T06:46:44.801222",
     "status": "completed"
    },
    "tags": []
   },
   "source": [
    "## 13. Elbow method for finding the best K values"
   ]
  },
  {
   "cell_type": "code",
   "execution_count": 54,
   "id": "f4975d68",
   "metadata": {
    "execution": {
     "iopub.execute_input": "2021-08-06T06:46:45.125509Z",
     "iopub.status.busy": "2021-08-06T06:46:45.124814Z",
     "iopub.status.idle": "2021-08-06T06:46:45.652656Z",
     "shell.execute_reply": "2021-08-06T06:46:45.653186Z",
     "shell.execute_reply.started": "2021-08-06T06:45:08.681545Z"
    },
    "papermill": {
     "duration": 0.641002,
     "end_time": "2021-08-06T06:46:45.653409",
     "exception": false,
     "start_time": "2021-08-06T06:46:45.012407",
     "status": "completed"
    },
    "tags": []
   },
   "outputs": [],
   "source": [
    "from sklearn.neighbors import KNeighborsClassifier\n",
    "from sklearn.metrics import classification_report, confusion_matrix, accuracy_score\n",
    "\n",
    "test_error_rate = []\n",
    "\n",
    "for i in range(1,30):\n",
    "    knn = KNeighborsClassifier(n_neighbors=i)\n",
    "    knn.fit(X_train,y_train)\n",
    "    \n",
    "    y_pred_knn = knn.predict(X_test)\n",
    "    \n",
    "    e = 1 - accuracy_score(y_test,y_pred_knn)\n",
    "    test_error_rate.append(e)\n",
    "    "
   ]
  },
  {
   "cell_type": "code",
   "execution_count": 55,
   "id": "13e9b0c6",
   "metadata": {
    "execution": {
     "iopub.execute_input": "2021-08-06T06:46:45.874988Z",
     "iopub.status.busy": "2021-08-06T06:46:45.874223Z",
     "iopub.status.idle": "2021-08-06T06:46:45.877487Z",
     "shell.execute_reply": "2021-08-06T06:46:45.878005Z",
     "shell.execute_reply.started": "2021-08-06T06:45:09.125396Z"
    },
    "papermill": {
     "duration": 0.117394,
     "end_time": "2021-08-06T06:46:45.878189",
     "exception": false,
     "start_time": "2021-08-06T06:46:45.760795",
     "status": "completed"
    },
    "tags": []
   },
   "outputs": [
    {
     "data": {
      "text/plain": [
       "[0.2696245733788396,\n",
       " 0.23549488054607504,\n",
       " 0.23549488054607504,\n",
       " 0.21501706484641636,\n",
       " 0.20819112627986347,\n",
       " 0.21843003412969286,\n",
       " 0.21160409556313997,\n",
       " 0.20136518771331058,\n",
       " 0.21160409556313997,\n",
       " 0.1808873720136519,\n",
       " 0.19795221843003408,\n",
       " 0.1945392491467577,\n",
       " 0.19795221843003408,\n",
       " 0.19112627986348119,\n",
       " 0.20136518771331058,\n",
       " 0.19112627986348119,\n",
       " 0.19112627986348119,\n",
       " 0.19795221843003408,\n",
       " 0.20136518771331058,\n",
       " 0.1843003412969283,\n",
       " 0.1945392491467577,\n",
       " 0.1945392491467577,\n",
       " 0.19795221843003408,\n",
       " 0.19795221843003408,\n",
       " 0.20819112627986347,\n",
       " 0.20136518771331058,\n",
       " 0.19795221843003408,\n",
       " 0.19795221843003408,\n",
       " 0.19795221843003408]"
      ]
     },
     "execution_count": 55,
     "metadata": {},
     "output_type": "execute_result"
    }
   ],
   "source": [
    "test_error_rate"
   ]
  },
  {
   "cell_type": "code",
   "execution_count": 56,
   "id": "59863940",
   "metadata": {
    "execution": {
     "iopub.execute_input": "2021-08-06T06:46:46.094384Z",
     "iopub.status.busy": "2021-08-06T06:46:46.093684Z",
     "iopub.status.idle": "2021-08-06T06:46:46.359661Z",
     "shell.execute_reply": "2021-08-06T06:46:46.360189Z",
     "shell.execute_reply.started": "2021-08-06T06:45:09.133687Z"
    },
    "papermill": {
     "duration": 0.375688,
     "end_time": "2021-08-06T06:46:46.360379",
     "exception": false,
     "start_time": "2021-08-06T06:46:45.984691",
     "status": "completed"
    },
    "tags": []
   },
   "outputs": [
    {
     "data": {
      "text/plain": [
       "Text(0.5, 0, 'K Value')"
      ]
     },
     "execution_count": 56,
     "metadata": {},
     "output_type": "execute_result"
    },
    {
     "data": {
      "image/png": "[encoded data removed]",
      "text/plain": [
       "<Figure size 720x432 with 1 Axes>"
      ]
     },
     "metadata": {},
     "output_type": "display_data"
    }
   ],
   "source": [
    "plt.figure(figsize=(10, 6))\n",
    "plt.plot(range(1, 30), test_error_rate, label='Test Error')\n",
    "plt.legend()\n",
    "plt.ylabel('Error Rate')\n",
    "plt.xlabel('K Value')"
   ]
  },
  {
   "cell_type": "markdown",
   "id": "ba0adbb2",
   "metadata": {
    "papermill": {
     "duration": 0.107511,
     "end_time": "2021-08-06T06:46:46.576685",
     "exception": false,
     "start_time": "2021-08-06T06:46:46.469174",
     "status": "completed"
    },
    "tags": []
   },
   "source": [
    "### So elbow method shows that best K Values = 5"
   ]
  },
  {
   "cell_type": "markdown",
   "id": "fadb7201",
   "metadata": {
    "papermill": {
     "duration": 0.105844,
     "end_time": "2021-08-06T06:46:46.788907",
     "exception": false,
     "start_time": "2021-08-06T06:46:46.683063",
     "status": "completed"
    },
    "tags": []
   },
   "source": [
    "## Now Let's see what the Grid search method predicts for the K value"
   ]
  },
  {
   "cell_type": "markdown",
   "id": "26cd78af",
   "metadata": {
    "papermill": {
     "duration": 0.107051,
     "end_time": "2021-08-06T06:46:47.002362",
     "exception": false,
     "start_time": "2021-08-06T06:46:46.895311",
     "status": "completed"
    },
    "tags": []
   },
   "source": [
    "## 14. Creating the pipeline"
   ]
  },
  {
   "cell_type": "code",
   "execution_count": 57,
   "id": "ac3d6bf4",
   "metadata": {
    "execution": {
     "iopub.execute_input": "2021-08-06T06:46:47.218724Z",
     "iopub.status.busy": "2021-08-06T06:46:47.217976Z",
     "iopub.status.idle": "2021-08-06T06:46:47.221375Z",
     "shell.execute_reply": "2021-08-06T06:46:47.221887Z",
     "shell.execute_reply.started": "2021-08-06T06:45:09.382007Z"
    },
    "papermill": {
     "duration": 0.11332,
     "end_time": "2021-08-06T06:46:47.222077",
     "exception": false,
     "start_time": "2021-08-06T06:46:47.108757",
     "status": "completed"
    },
    "tags": []
   },
   "outputs": [],
   "source": [
    "# Scaler for pipeline\n",
    "\n",
    "sc = StandardScaler()"
   ]
  },
  {
   "cell_type": "code",
   "execution_count": 58,
   "id": "9db99665",
   "metadata": {
    "execution": {
     "iopub.execute_input": "2021-08-06T06:46:47.440702Z",
     "iopub.status.busy": "2021-08-06T06:46:47.439941Z",
     "iopub.status.idle": "2021-08-06T06:46:47.444571Z",
     "shell.execute_reply": "2021-08-06T06:46:47.443887Z",
     "shell.execute_reply.started": "2021-08-06T06:45:09.386844Z"
    },
    "papermill": {
     "duration": 0.116055,
     "end_time": "2021-08-06T06:46:47.444713",
     "exception": false,
     "start_time": "2021-08-06T06:46:47.328658",
     "status": "completed"
    },
    "tags": []
   },
   "outputs": [],
   "source": [
    "# Model for pipeline\n",
    "\n",
    "knn_model = KNeighborsClassifier()"
   ]
  },
  {
   "cell_type": "code",
   "execution_count": 59,
   "id": "4187a17b",
   "metadata": {
    "execution": {
     "iopub.execute_input": "2021-08-06T06:46:47.664317Z",
     "iopub.status.busy": "2021-08-06T06:46:47.663634Z",
     "iopub.status.idle": "2021-08-06T06:46:47.665881Z",
     "shell.execute_reply": "2021-08-06T06:46:47.665376Z",
     "shell.execute_reply.started": "2021-08-06T06:45:09.399962Z"
    },
    "papermill": {
     "duration": 0.113504,
     "end_time": "2021-08-06T06:46:47.666038",
     "exception": false,
     "start_time": "2021-08-06T06:46:47.552534",
     "status": "completed"
    },
    "tags": []
   },
   "outputs": [],
   "source": [
    "# Operations of pipeline\n",
    "\n",
    "operations = [(\"Scaler\",sc),(\"KNN\", knn_model)]"
   ]
  },
  {
   "cell_type": "code",
   "execution_count": 60,
   "id": "9c170547",
   "metadata": {
    "execution": {
     "iopub.execute_input": "2021-08-06T06:46:47.886509Z",
     "iopub.status.busy": "2021-08-06T06:46:47.885779Z",
     "iopub.status.idle": "2021-08-06T06:46:47.891452Z",
     "shell.execute_reply": "2021-08-06T06:46:47.890753Z",
     "shell.execute_reply.started": "2021-08-06T06:45:09.411570Z"
    },
    "papermill": {
     "duration": 0.116747,
     "end_time": "2021-08-06T06:46:47.891601",
     "exception": false,
     "start_time": "2021-08-06T06:46:47.774854",
     "status": "completed"
    },
    "tags": []
   },
   "outputs": [],
   "source": [
    "from sklearn.pipeline import Pipeline\n",
    "\n",
    "pipe = Pipeline(operations)"
   ]
  },
  {
   "cell_type": "markdown",
   "id": "8e3977e7",
   "metadata": {
    "papermill": {
     "duration": 0.107598,
     "end_time": "2021-08-06T06:46:48.107230",
     "exception": false,
     "start_time": "2021-08-06T06:46:47.999632",
     "status": "completed"
    },
    "tags": []
   },
   "source": [
    "## 15. Finding the best K value with Grid Search"
   ]
  },
  {
   "cell_type": "code",
   "execution_count": 61,
   "id": "37ac8bb6",
   "metadata": {
    "execution": {
     "iopub.execute_input": "2021-08-06T06:46:48.324989Z",
     "iopub.status.busy": "2021-08-06T06:46:48.324340Z",
     "iopub.status.idle": "2021-08-06T06:46:48.327058Z",
     "shell.execute_reply": "2021-08-06T06:46:48.327543Z",
     "shell.execute_reply.started": "2021-08-06T06:45:09.423800Z"
    },
    "papermill": {
     "duration": 0.11407,
     "end_time": "2021-08-06T06:46:48.327707",
     "exception": false,
     "start_time": "2021-08-06T06:46:48.213637",
     "status": "completed"
    },
    "tags": []
   },
   "outputs": [],
   "source": [
    "from sklearn.model_selection import GridSearchCV\n",
    "\n",
    "k_values= list(range(1,20))"
   ]
  },
  {
   "cell_type": "code",
   "execution_count": 62,
   "id": "65460dec",
   "metadata": {
    "execution": {
     "iopub.execute_input": "2021-08-06T06:46:48.546739Z",
     "iopub.status.busy": "2021-08-06T06:46:48.545687Z",
     "iopub.status.idle": "2021-08-06T06:46:48.549554Z",
     "shell.execute_reply": "2021-08-06T06:46:48.550060Z",
     "shell.execute_reply.started": "2021-08-06T06:45:09.429655Z"
    },
    "papermill": {
     "duration": 0.116468,
     "end_time": "2021-08-06T06:46:48.550234",
     "exception": false,
     "start_time": "2021-08-06T06:46:48.433766",
     "status": "completed"
    },
    "tags": []
   },
   "outputs": [
    {
     "data": {
      "text/plain": [
       "dict_keys(['memory', 'steps', 'verbose', 'Scaler', 'KNN', 'Scaler__copy', 'Scaler__with_mean', 'Scaler__with_std', 'KNN__algorithm', 'KNN__leaf_size', 'KNN__metric', 'KNN__metric_params', 'KNN__n_jobs', 'KNN__n_neighbors', 'KNN__p', 'KNN__weights'])"
      ]
     },
     "execution_count": 62,
     "metadata": {},
     "output_type": "execute_result"
    }
   ],
   "source": [
    "# Pipeline keys\n",
    "\n",
    "pipe.get_params().keys()"
   ]
  },
  {
   "cell_type": "code",
   "execution_count": 63,
   "id": "3e46223a",
   "metadata": {
    "execution": {
     "iopub.execute_input": "2021-08-06T06:46:48.770256Z",
     "iopub.status.busy": "2021-08-06T06:46:48.769252Z",
     "iopub.status.idle": "2021-08-06T06:46:48.774822Z",
     "shell.execute_reply": "2021-08-06T06:46:48.774279Z",
     "shell.execute_reply.started": "2021-08-06T06:45:09.443139Z"
    },
    "papermill": {
     "duration": 0.119153,
     "end_time": "2021-08-06T06:46:48.774974",
     "exception": false,
     "start_time": "2021-08-06T06:46:48.655821",
     "status": "completed"
    },
    "tags": []
   },
   "outputs": [],
   "source": [
    "param_grid = {\"KNN__n_neighbors\" : k_values}"
   ]
  },
  {
   "cell_type": "code",
   "execution_count": 64,
   "id": "0414696b",
   "metadata": {
    "execution": {
     "iopub.execute_input": "2021-08-06T06:46:49.016868Z",
     "iopub.status.busy": "2021-08-06T06:46:49.015850Z",
     "iopub.status.idle": "2021-08-06T06:46:49.940142Z",
     "shell.execute_reply": "2021-08-06T06:46:49.940686Z",
     "shell.execute_reply.started": "2021-08-06T06:45:09.454503Z"
    },
    "papermill": {
     "duration": 1.036737,
     "end_time": "2021-08-06T06:46:49.940861",
     "exception": false,
     "start_time": "2021-08-06T06:46:48.904124",
     "status": "completed"
    },
    "tags": []
   },
   "outputs": [
    {
     "data": {
      "text/plain": [
       "GridSearchCV(estimator=Pipeline(steps=[('Scaler', StandardScaler()),\n",
       "                                       ('KNN', KNeighborsClassifier())]),\n",
       "             param_grid={'KNN__n_neighbors': [1, 2, 3, 4, 5, 6, 7, 8, 9, 10, 11,\n",
       "                                              12, 13, 14, 15, 16, 17, 18, 19]},\n",
       "             scoring='accuracy')"
      ]
     },
     "execution_count": 64,
     "metadata": {},
     "output_type": "execute_result"
    }
   ],
   "source": [
    "cv_classifier = GridSearchCV(pipe,param_grid=param_grid,scoring=\"accuracy\")\n",
    "cv_classifier.fit(X_train,y_train)"
   ]
  },
  {
   "cell_type": "code",
   "execution_count": 65,
   "id": "71ace7f3",
   "metadata": {
    "execution": {
     "iopub.execute_input": "2021-08-06T06:46:50.160149Z",
     "iopub.status.busy": "2021-08-06T06:46:50.159140Z",
     "iopub.status.idle": "2021-08-06T06:46:50.166374Z",
     "shell.execute_reply": "2021-08-06T06:46:50.166903Z",
     "shell.execute_reply.started": "2021-08-06T06:45:10.237949Z"
    },
    "papermill": {
     "duration": 0.119202,
     "end_time": "2021-08-06T06:46:50.167083",
     "exception": false,
     "start_time": "2021-08-06T06:46:50.047881",
     "status": "completed"
    },
    "tags": []
   },
   "outputs": [
    {
     "data": {
      "text/plain": [
       "{'memory': None,\n",
       " 'steps': [('Scaler', StandardScaler()), ('KNN', KNeighborsClassifier())],\n",
       " 'verbose': False,\n",
       " 'Scaler': StandardScaler(),\n",
       " 'KNN': KNeighborsClassifier(),\n",
       " 'Scaler__copy': True,\n",
       " 'Scaler__with_mean': True,\n",
       " 'Scaler__with_std': True,\n",
       " 'KNN__algorithm': 'auto',\n",
       " 'KNN__leaf_size': 30,\n",
       " 'KNN__metric': 'minkowski',\n",
       " 'KNN__metric_params': None,\n",
       " 'KNN__n_jobs': None,\n",
       " 'KNN__n_neighbors': 5,\n",
       " 'KNN__p': 2,\n",
       " 'KNN__weights': 'uniform'}"
      ]
     },
     "execution_count": 65,
     "metadata": {},
     "output_type": "execute_result"
    }
   ],
   "source": [
    "# Now let's see what's the best K values\n",
    "\n",
    "cv_classifier.best_estimator_.get_params()"
   ]
  },
  {
   "cell_type": "markdown",
   "id": "db35fa80",
   "metadata": {
    "papermill": {
     "duration": 0.10592,
     "end_time": "2021-08-06T06:46:50.379808",
     "exception": false,
     "start_time": "2021-08-06T06:46:50.273888",
     "status": "completed"
    },
    "tags": []
   },
   "source": [
    "## Grid search suggests for K values of 15"
   ]
  },
  {
   "cell_type": "markdown",
   "id": "f0e14cc2",
   "metadata": {
    "papermill": {
     "duration": 0.107102,
     "end_time": "2021-08-06T06:46:50.593555",
     "exception": false,
     "start_time": "2021-08-06T06:46:50.486453",
     "status": "completed"
    },
    "tags": []
   },
   "source": [
    "## Now we check for both 15 and 5"
   ]
  },
  {
   "cell_type": "markdown",
   "id": "3e29657b",
   "metadata": {
    "papermill": {
     "duration": 0.108411,
     "end_time": "2021-08-06T06:46:50.808314",
     "exception": false,
     "start_time": "2021-08-06T06:46:50.699903",
     "status": "completed"
    },
    "tags": []
   },
   "source": [
    "## 16. Final KNN model"
   ]
  },
  {
   "cell_type": "code",
   "execution_count": 66,
   "id": "d0d8e8e3",
   "metadata": {
    "execution": {
     "iopub.execute_input": "2021-08-06T06:46:51.032058Z",
     "iopub.status.busy": "2021-08-06T06:46:51.031053Z",
     "iopub.status.idle": "2021-08-06T06:46:51.051758Z",
     "shell.execute_reply": "2021-08-06T06:46:51.051213Z",
     "shell.execute_reply.started": "2021-08-06T06:45:10.246728Z"
    },
    "papermill": {
     "duration": 0.131712,
     "end_time": "2021-08-06T06:46:51.051916",
     "exception": false,
     "start_time": "2021-08-06T06:46:50.920204",
     "status": "completed"
    },
    "tags": []
   },
   "outputs": [],
   "source": [
    "# KNN for 5\n",
    "\n",
    "knn_model_5 = KNeighborsClassifier(n_neighbors=5)\n",
    "knn_model_5.fit(X_train,y_train)\n",
    "y_knn_pred_5 = knn_model_5.predict(X_test)"
   ]
  },
  {
   "cell_type": "code",
   "execution_count": 67,
   "id": "aaa5771a",
   "metadata": {
    "execution": {
     "iopub.execute_input": "2021-08-06T06:46:51.272116Z",
     "iopub.status.busy": "2021-08-06T06:46:51.271461Z",
     "iopub.status.idle": "2021-08-06T06:46:51.292268Z",
     "shell.execute_reply": "2021-08-06T06:46:51.291690Z",
     "shell.execute_reply.started": "2021-08-06T06:45:10.269819Z"
    },
    "papermill": {
     "duration": 0.133083,
     "end_time": "2021-08-06T06:46:51.292419",
     "exception": false,
     "start_time": "2021-08-06T06:46:51.159336",
     "status": "completed"
    },
    "tags": []
   },
   "outputs": [],
   "source": [
    "# KNN for 15\n",
    "\n",
    "knn_model_15 = KNeighborsClassifier(n_neighbors=15)\n",
    "knn_model_15.fit(X_train,y_train)\n",
    "y_knn_pred_15 = knn_model_15.predict(X_test)"
   ]
  },
  {
   "cell_type": "markdown",
   "id": "ac58cf39",
   "metadata": {
    "papermill": {
     "duration": 0.107181,
     "end_time": "2021-08-06T06:46:51.507117",
     "exception": false,
     "start_time": "2021-08-06T06:46:51.399936",
     "status": "completed"
    },
    "tags": []
   },
   "source": [
    "## 17. Evaluating the KNN models"
   ]
  },
  {
   "cell_type": "code",
   "execution_count": 68,
   "id": "491ae13a",
   "metadata": {
    "execution": {
     "iopub.execute_input": "2021-08-06T06:46:51.729565Z",
     "iopub.status.busy": "2021-08-06T06:46:51.728848Z",
     "iopub.status.idle": "2021-08-06T06:46:51.738930Z",
     "shell.execute_reply": "2021-08-06T06:46:51.739493Z",
     "shell.execute_reply.started": "2021-08-06T06:45:10.293045Z"
    },
    "papermill": {
     "duration": 0.121973,
     "end_time": "2021-08-06T06:46:51.739710",
     "exception": false,
     "start_time": "2021-08-06T06:46:51.617737",
     "status": "completed"
    },
    "tags": []
   },
   "outputs": [
    {
     "name": "stdout",
     "output_type": "stream",
     "text": [
      "              precision    recall  f1-score   support\n",
      "\n",
      "           0       0.81      0.86      0.83       175\n",
      "           1       0.77      0.69      0.73       118\n",
      "\n",
      "    accuracy                           0.79       293\n",
      "   macro avg       0.79      0.78      0.78       293\n",
      "weighted avg       0.79      0.79      0.79       293\n",
      "\n"
     ]
    }
   ],
   "source": [
    "# Model Report for k = 5\n",
    "\n",
    "print(classification_report(y_test, y_knn_pred_5))"
   ]
  },
  {
   "cell_type": "code",
   "execution_count": 69,
   "id": "6dc18eeb",
   "metadata": {
    "execution": {
     "iopub.execute_input": "2021-08-06T06:46:51.965597Z",
     "iopub.status.busy": "2021-08-06T06:46:51.964633Z",
     "iopub.status.idle": "2021-08-06T06:46:51.974041Z",
     "shell.execute_reply": "2021-08-06T06:46:51.973337Z",
     "shell.execute_reply.started": "2021-08-06T06:45:10.305871Z"
    },
    "papermill": {
     "duration": 0.125373,
     "end_time": "2021-08-06T06:46:51.974199",
     "exception": false,
     "start_time": "2021-08-06T06:46:51.848826",
     "status": "completed"
    },
    "tags": []
   },
   "outputs": [
    {
     "name": "stdout",
     "output_type": "stream",
     "text": [
      "              precision    recall  f1-score   support\n",
      "\n",
      "           0       0.80      0.88      0.84       175\n",
      "           1       0.79      0.68      0.73       118\n",
      "\n",
      "    accuracy                           0.80       293\n",
      "   macro avg       0.80      0.78      0.78       293\n",
      "weighted avg       0.80      0.80      0.80       293\n",
      "\n"
     ]
    }
   ],
   "source": [
    "# Model Report for k = 15\n",
    "\n",
    "print(classification_report(y_test, y_knn_pred_15))"
   ]
  },
  {
   "cell_type": "markdown",
   "id": "6ad5e1a9",
   "metadata": {
    "papermill": {
     "duration": 0.107942,
     "end_time": "2021-08-06T06:46:52.192369",
     "exception": false,
     "start_time": "2021-08-06T06:46:52.084427",
     "status": "completed"
    },
    "tags": []
   },
   "source": [
    "## So clearly K = 5 is our best value for KNN method"
   ]
  }
 ],
 "metadata": {
  "kernelspec": {
   "display_name": "Python 3 (ipykernel)",
   "language": "python",
   "name": "python3"
  },
  "language_info": {
   "codemirror_mode": {
    "name": "ipython",
    "version": 3
   },
   "file_extension": ".py",
   "mimetype": "text/x-python",
   "name": "python",
   "nbconvert_exporter": "python",
   "pygments_lexer": "ipython3",
   "version": "3.8.5"
  },
  "papermill": {
   "default_parameters": {},
   "duration": 46.741151,
   "end_time": "2021-08-06T06:46:53.312728",
   "environment_variables": {},
   "exception": null,
   "input_path": "__notebook__.ipynb",
   "output_path": "__notebook__.ipynb",
   "parameters": {},
   "start_time": "2021-08-06T06:46:06.571577",
   "version": "2.3.3"
  }
 },
 "nbformat": 4,
 "nbformat_minor": 5
}
