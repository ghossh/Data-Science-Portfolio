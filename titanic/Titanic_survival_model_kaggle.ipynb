{
 "cells": [
  {
   "cell_type": "markdown",
   "id": "d888f5de-82d4-488b-9c27-7cd9ab75850b",
   "metadata": {},
   "source": [
    "# Import Library"
   ]
  },
  {
   "cell_type": "code",
   "execution_count": 1,
   "id": "cd5d83bf-b52e-40e2-bf88-2dbc1f3bd1d0",
   "metadata": {},
   "outputs": [],
   "source": [
    "import numpy as np\n",
    "import pandas as pd\n",
    "import seaborn as sns\n",
    "import matplotlib.pyplot as plt\n",
    "sns.set()\n",
    "sns.set_style(\"ticks\")"
   ]
  },
  {
   "cell_type": "markdown",
   "id": "b70f8cd8-a7cc-40b7-9955-9291dcd3ac75",
   "metadata": {
    "tags": []
   },
   "source": [
    "# Import datasets"
   ]
  },
  {
   "cell_type": "code",
   "execution_count": 42,
   "id": "7b7bf3cb-06c2-40f1-8d05-51cf9ed43a1d",
   "metadata": {},
   "outputs": [],
   "source": [
    "raw_train=pd.read_csv('train.csv')\n",
    "raw_test=pd.read_csv('test.csv')\n",
    "gender_submission=pd.read_csv('gender_submission.csv')"
   ]
  },
  {
   "cell_type": "markdown",
   "id": "3c869af3-023f-43e1-b28c-1106237539e7",
   "metadata": {},
   "source": [
    "### info"
   ]
  },
  {
   "cell_type": "code",
   "execution_count": 3,
   "id": "98c849e9-f9fc-4e33-ae7d-6825c6415e69",
   "metadata": {},
   "outputs": [
    {
     "name": "stdout",
     "output_type": "stream",
     "text": [
      "<class 'pandas.core.frame.DataFrame'>\n",
      "RangeIndex: 891 entries, 0 to 890\n",
      "Data columns (total 12 columns):\n",
      " #   Column       Non-Null Count  Dtype  \n",
      "---  ------       --------------  -----  \n",
      " 0   PassengerId  891 non-null    int64  \n",
      " 1   Survived     891 non-null    int64  \n",
      " 2   Pclass       891 non-null    int64  \n",
      " 3   Name         891 non-null    object \n",
      " 4   Sex          891 non-null    object \n",
      " 5   Age          714 non-null    float64\n",
      " 6   SibSp        891 non-null    int64  \n",
      " 7   Parch        891 non-null    int64  \n",
      " 8   Ticket       891 non-null    object \n",
      " 9   Fare         891 non-null    float64\n",
      " 10  Cabin        204 non-null    object \n",
      " 11  Embarked     889 non-null    object \n",
      "dtypes: float64(2), int64(5), object(5)\n",
      "memory usage: 83.7+ KB\n",
      "None\n",
      "<class 'pandas.core.frame.DataFrame'>\n",
      "RangeIndex: 418 entries, 0 to 417\n",
      "Data columns (total 11 columns):\n",
      " #   Column       Non-Null Count  Dtype  \n",
      "---  ------       --------------  -----  \n",
      " 0   PassengerId  418 non-null    int64  \n",
      " 1   Pclass       418 non-null    int64  \n",
      " 2   Name         418 non-null    object \n",
      " 3   Sex          418 non-null    object \n",
      " 4   Age          332 non-null    float64\n",
      " 5   SibSp        418 non-null    int64  \n",
      " 6   Parch        418 non-null    int64  \n",
      " 7   Ticket       418 non-null    object \n",
      " 8   Fare         417 non-null    float64\n",
      " 9   Cabin        91 non-null     object \n",
      " 10  Embarked     418 non-null    object \n",
      "dtypes: float64(2), int64(4), object(5)\n",
      "memory usage: 36.0+ KB\n",
      "None\n",
      "<class 'pandas.core.frame.DataFrame'>\n",
      "RangeIndex: 331 entries, 0 to 330\n",
      "Data columns (total 1 columns):\n",
      " #   Column    Non-Null Count  Dtype\n",
      "---  ------    --------------  -----\n",
      " 0   Survived  331 non-null    int64\n",
      "dtypes: int64(1)\n",
      "memory usage: 2.7 KB\n",
      "None\n"
     ]
    }
   ],
   "source": [
    "print(raw_train.info())\n",
    "print(raw_test.info())\n",
    "print(gender_submission.info())"
   ]
  },
  {
   "cell_type": "markdown",
   "id": "ca6ecfd3-0e94-4bd2-8633-4f3013272281",
   "metadata": {},
   "source": [
    "# Preprocessing"
   ]
  },
  {
   "cell_type": "markdown",
   "id": "ba686e3d-bb83-4650-bbc5-8a45dd10b7ab",
   "metadata": {},
   "source": [
    "## 1. column dropping"
   ]
  },
  {
   "cell_type": "code",
   "execution_count": 4,
   "id": "91586074-5aa5-4c60-8538-c7589e5d5945",
   "metadata": {},
   "outputs": [],
   "source": [
    "raw_train=raw_train.drop('Name',axis=1)\n",
    "raw_train=raw_train.drop('Ticket',axis=1)\n",
    "raw_train=raw_train.drop('PassengerId',axis=1)\n",
    "\n",
    "\n",
    "raw_test=raw_test.drop('Name',axis=1)\n",
    "raw_test=raw_test.drop('Ticket',axis=1)\n",
    "raw_test=raw_test.drop('PassengerId',axis=1)"
   ]
  },
  {
   "cell_type": "markdown",
   "id": "367bdcde-6f1c-4ca5-ae04-0c8e54bd073c",
   "metadata": {},
   "source": [
    "## 2. Missing values"
   ]
  },
  {
   "cell_type": "markdown",
   "id": "baa945c8-a207-4b9f-ba30-5af3ce5bb1ba",
   "metadata": {},
   "source": [
    "#### Train data"
   ]
  },
  {
   "cell_type": "code",
   "execution_count": 5,
   "id": "82c98bc3-a4ac-4b32-82e6-c35bd9eee0b8",
   "metadata": {},
   "outputs": [
    {
     "name": "stdout",
     "output_type": "stream",
     "text": [
      "Survived      0\n",
      "Pclass        0\n",
      "Sex           0\n",
      "Age         177\n",
      "SibSp         0\n",
      "Parch         0\n",
      "Fare          0\n",
      "Cabin       687\n",
      "Embarked      2\n",
      "dtype: int64\n"
     ]
    }
   ],
   "source": [
    "print(raw_train.isnull().sum())\n"
   ]
  },
  {
   "cell_type": "code",
   "execution_count": 6,
   "id": "8131160d-8965-45a9-b217-502279e83247",
   "metadata": {},
   "outputs": [
    {
     "name": "stdout",
     "output_type": "stream",
     "text": [
      "Survived      0\n",
      "Pclass        0\n",
      "Sex           0\n",
      "Age         177\n",
      "SibSp         0\n",
      "Parch         0\n",
      "Fare          0\n",
      "Embarked      0\n",
      "dtype: int64\n"
     ]
    }
   ],
   "source": [
    "# in train data - Cabin and Embarked missing value\n",
    "train1=raw_train.drop('Cabin',axis=1)\n",
    "train1=train1.dropna(subset=['Embarked'])\n",
    "print(train1.isnull().sum())"
   ]
  },
  {
   "cell_type": "code",
   "execution_count": 18,
   "id": "be5fe701-8a69-490a-890e-ed167f9ac64b",
   "metadata": {
    "tags": []
   },
   "outputs": [],
   "source": [
    "import math\n",
    "female_mean, male_mean = train1.groupby(\"Sex\")[\"Age\"].mean()\n",
    "def fill_age(age,sex):\n",
    "    if math.isnan(age):\n",
    "        if sex == \"male\":\n",
    "            return male_mean\n",
    "        else:\n",
    "            return female_mean\n",
    "    else:\n",
    "        return age\n",
    "\n",
    "train1[\"Age\"] = train1.apply(lambda row : fill_age(\n",
    "    row[\"Age\"],row[\"Sex\"]),axis = 1)\n",
    "train2=train1"
   ]
  },
  {
   "cell_type": "markdown",
   "id": "5b34def2-2a0c-4285-84a2-3a58b24b3788",
   "metadata": {},
   "source": [
    "### test data"
   ]
  },
  {
   "cell_type": "code",
   "execution_count": 19,
   "id": "9ff16dc0-9878-44b6-a02f-dafae06b303b",
   "metadata": {
    "tags": []
   },
   "outputs": [
    {
     "name": "stdout",
     "output_type": "stream",
     "text": [
      "Pclass        0\n",
      "Sex           0\n",
      "Age          86\n",
      "SibSp         0\n",
      "Parch         0\n",
      "Fare          1\n",
      "Cabin       327\n",
      "Embarked      0\n",
      "dtype: int64\n"
     ]
    }
   ],
   "source": [
    "print(raw_test.isnull().sum())"
   ]
  },
  {
   "cell_type": "code",
   "execution_count": 46,
   "id": "0f7c2d13-6a2c-4b72-83f8-96d2b6e7406f",
   "metadata": {
    "tags": []
   },
   "outputs": [
    {
     "name": "stdout",
     "output_type": "stream",
     "text": [
      "PassengerId     0\n",
      "Pclass          0\n",
      "Name            0\n",
      "Sex             0\n",
      "Age            86\n",
      "SibSp           0\n",
      "Parch           0\n",
      "Ticket          0\n",
      "Fare            1\n",
      "Embarked        0\n",
      "dtype: int64\n",
      "<class 'pandas.core.frame.DataFrame'>\n",
      "RangeIndex: 418 entries, 0 to 417\n",
      "Data columns (total 10 columns):\n",
      " #   Column       Non-Null Count  Dtype  \n",
      "---  ------       --------------  -----  \n",
      " 0   PassengerId  418 non-null    int64  \n",
      " 1   Pclass       418 non-null    int64  \n",
      " 2   Name         418 non-null    object \n",
      " 3   Sex          418 non-null    object \n",
      " 4   Age          332 non-null    float64\n",
      " 5   SibSp        418 non-null    int64  \n",
      " 6   Parch        418 non-null    int64  \n",
      " 7   Ticket       418 non-null    object \n",
      " 8   Fare         417 non-null    float64\n",
      " 9   Embarked     418 non-null    object \n",
      "dtypes: float64(2), int64(4), object(4)\n",
      "memory usage: 32.8+ KB\n"
     ]
    }
   ],
   "source": [
    "test1=raw_test.drop([\"Cabin\"],axis=1)\n",
    "print(test1.isnull().sum())\n",
    "test1.info()\n"
   ]
  },
  {
   "cell_type": "code",
   "execution_count": 48,
   "id": "d09e2534-822b-4164-b92a-9a192edc833a",
   "metadata": {},
   "outputs": [],
   "source": [
    "import math\n",
    "female_mean, male_mean = test1.groupby(\"Sex\")[\"Age\"].mean()\n",
    "def fill_age(age,sex):\n",
    "    if math.isnan(age):\n",
    "        if sex == \"male\":\n",
    "            return male_mean\n",
    "        else:\n",
    "            return female_mean\n",
    "    else:\n",
    "        return age\n",
    "\n",
    "test1[\"Age\"] = test1.apply(lambda row : fill_age(\n",
    "    row[\"Age\"],row[\"Sex\"]),axis = 1)\n"
   ]
  },
  {
   "cell_type": "code",
   "execution_count": 51,
   "id": "2c6d7817-4f85-49b9-b7dc-a0fd471f3273",
   "metadata": {},
   "outputs": [
    {
     "name": "stdout",
     "output_type": "stream",
     "text": [
      "<class 'pandas.core.frame.DataFrame'>\n",
      "RangeIndex: 418 entries, 0 to 417\n",
      "Data columns (total 10 columns):\n",
      " #   Column       Non-Null Count  Dtype  \n",
      "---  ------       --------------  -----  \n",
      " 0   PassengerId  418 non-null    int64  \n",
      " 1   Pclass       418 non-null    int64  \n",
      " 2   Name         418 non-null    object \n",
      " 3   Sex          418 non-null    object \n",
      " 4   Age          418 non-null    float64\n",
      " 5   SibSp        418 non-null    int64  \n",
      " 6   Parch        418 non-null    int64  \n",
      " 7   Ticket       418 non-null    object \n",
      " 8   Fare         418 non-null    float64\n",
      " 9   Embarked     418 non-null    object \n",
      "dtypes: float64(2), int64(4), object(4)\n",
      "memory usage: 32.8+ KB\n"
     ]
    }
   ],
   "source": [
    "test1[\"Fare\"].fillna( \n",
    "    method ='ffill', inplace = True)\n",
    "test1.info()"
   ]
  },
  {
   "cell_type": "markdown",
   "id": "82e9a526-a4ee-4064-80ee-856db006a2e6",
   "metadata": {},
   "source": [
    "## 3. Exploring PDFs"
   ]
  },
  {
   "cell_type": "code",
   "execution_count": 52,
   "id": "5f502bb9-1fd7-4039-9fb1-fcaee9011aab",
   "metadata": {},
   "outputs": [
    {
     "name": "stderr",
     "output_type": "stream",
     "text": [
      "C:\\Users\\LENOVO\\miniconda3\\lib\\site-packages\\seaborn\\distributions.py:2557: FutureWarning: `distplot` is a deprecated function and will be removed in a future version. Please adapt your code to use either `displot` (a figure-level function with similar flexibility) or `histplot` (an axes-level function for histograms).\n",
      "  warnings.warn(msg, FutureWarning)\n",
      "C:\\Users\\LENOVO\\miniconda3\\lib\\site-packages\\seaborn\\distributions.py:2557: FutureWarning: `distplot` is a deprecated function and will be removed in a future version. Please adapt your code to use either `displot` (a figure-level function with similar flexibility) or `histplot` (an axes-level function for histograms).\n",
      "  warnings.warn(msg, FutureWarning)\n"
     ]
    },
    {
     "name": "stdout",
     "output_type": "stream",
     "text": [
      "AxesSubplot(0.125,0.125;0.775x0.755)\n",
      "AxesSubplot(0.125,0.125;0.775x0.755)\n"
     ]
    },
    {
     "data": {
      "image/png": "[encoded data removed]",
      "text/plain": [
       "<Figure size 432x288 with 1 Axes>"
      ]
     },
     "metadata": {},
     "output_type": "display_data"
    }
   ],
   "source": [
    "print(sns.distplot(train2['Age']))\n",
    "print(sns.distplot(test1['Age']))"
   ]
  },
  {
   "cell_type": "code",
   "execution_count": 53,
   "id": "7da937d7-0469-407c-83d4-b24b002ec34e",
   "metadata": {},
   "outputs": [
    {
     "name": "stderr",
     "output_type": "stream",
     "text": [
      "C:\\Users\\LENOVO\\miniconda3\\lib\\site-packages\\seaborn\\distributions.py:2557: FutureWarning: `distplot` is a deprecated function and will be removed in a future version. Please adapt your code to use either `displot` (a figure-level function with similar flexibility) or `histplot` (an axes-level function for histograms).\n",
      "  warnings.warn(msg, FutureWarning)\n"
     ]
    },
    {
     "data": {
      "text/plain": [
       "<AxesSubplot:xlabel='Fare', ylabel='Density'>"
      ]
     },
     "execution_count": 53,
     "metadata": {},
     "output_type": "execute_result"
    },
    {
     "data": {
      "image/png": "[encoded data removed]",
      "text/plain": [
       "<Figure size 432x288 with 1 Axes>"
      ]
     },
     "metadata": {},
     "output_type": "display_data"
    }
   ],
   "source": [
    "sns.distplot(train2['Fare'])\n",
    "#sns.distplot(test1['Fare'])"
   ]
  },
  {
   "cell_type": "code",
   "execution_count": 54,
   "id": "35645fd5-266f-4f8e-a956-e32267938ffb",
   "metadata": {},
   "outputs": [],
   "source": [
    "q=train2['Fare'].quantile(0.98)\n",
    "train3=train2[train2['Fare']<q]"
   ]
  },
  {
   "cell_type": "markdown",
   "id": "f7795729-19f7-4387-9db4-0cbcd11d1c37",
   "metadata": {},
   "source": [
    "### 4. Multicolinierity"
   ]
  },
  {
   "cell_type": "code",
   "execution_count": 55,
   "id": "291e05d5-dfb5-45aa-a628-443e61d4b177",
   "metadata": {},
   "outputs": [
    {
     "data": {
      "text/html": [
       "<div>\n",
       "<style scoped>\n",
       "    .dataframe tbody tr th:only-of-type {\n",
       "        vertical-align: middle;\n",
       "    }\n",
       "\n",
       "    .dataframe tbody tr th {\n",
       "        vertical-align: top;\n",
       "    }\n",
       "\n",
       "    .dataframe thead th {\n",
       "        text-align: right;\n",
       "    }\n",
       "</style>\n",
       "<table border=\"1\" class=\"dataframe\">\n",
       "  <thead>\n",
       "    <tr style=\"text-align: right;\">\n",
       "      <th></th>\n",
       "      <th>VIF</th>\n",
       "      <th>Features</th>\n",
       "    </tr>\n",
       "  </thead>\n",
       "  <tbody>\n",
       "    <tr>\n",
       "      <th>0</th>\n",
       "      <td>4.727783</td>\n",
       "      <td>Age</td>\n",
       "    </tr>\n",
       "    <tr>\n",
       "      <th>1</th>\n",
       "      <td>3.921046</td>\n",
       "      <td>Pclass</td>\n",
       "    </tr>\n",
       "    <tr>\n",
       "      <th>2</th>\n",
       "      <td>1.650365</td>\n",
       "      <td>SibSp</td>\n",
       "    </tr>\n",
       "    <tr>\n",
       "      <th>3</th>\n",
       "      <td>1.547892</td>\n",
       "      <td>Parch</td>\n",
       "    </tr>\n",
       "    <tr>\n",
       "      <th>4</th>\n",
       "      <td>2.288892</td>\n",
       "      <td>Fare</td>\n",
       "    </tr>\n",
       "  </tbody>\n",
       "</table>\n",
       "</div>"
      ],
      "text/plain": [
       "        VIF Features\n",
       "0  4.727783      Age\n",
       "1  3.921046   Pclass\n",
       "2  1.650365    SibSp\n",
       "3  1.547892    Parch\n",
       "4  2.288892     Fare"
      ]
     },
     "execution_count": 55,
     "metadata": {},
     "output_type": "execute_result"
    }
   ],
   "source": [
    "train3.columns.values\n",
    "\n",
    "from statsmodels.stats.outliers_influence import variance_inflation_factor\n",
    "variables=train3[['Age','Pclass','SibSp','Parch','Fare']]\n",
    "vif=pd.DataFrame()\n",
    "vif[\"VIF\"] = [variance_inflation_factor(variables.values, i) for i in range(variables.shape[1])]\n",
    "vif[\"Features\"] = variables.columns\n",
    "vif\n"
   ]
  },
  {
   "cell_type": "markdown",
   "id": "a35bc0b0-f269-4f82-9c30-6347eda69c27",
   "metadata": {},
   "source": [
    "## 5. Dummies"
   ]
  },
  {
   "cell_type": "markdown",
   "id": "6f9536ef-924a-4f42-be3d-51c14e03adc0",
   "metadata": {},
   "source": [
    "#### Train data"
   ]
  },
  {
   "cell_type": "code",
   "execution_count": 56,
   "id": "95be005d-10b8-4e02-b202-4c2adb29cc3f",
   "metadata": {},
   "outputs": [
    {
     "name": "stdout",
     "output_type": "stream",
     "text": [
      "['Survived' 'Pclass' 'Sex' 'Age' 'SibSp' 'Parch' 'Fare' 'Embarked']\n",
      "[3 1 2]\n",
      "['male' 'female']\n",
      "[1 0 3 4 2 5 8]\n",
      "[0 1 2 5 3 4 6]\n",
      "['S' 'C' 'Q']\n"
     ]
    }
   ],
   "source": [
    "\n",
    "print(train3.columns.values)\n",
    "#print(train3.info())\n",
    "print(train3.Pclass.unique())\n",
    "print(train3.Sex.unique())\n",
    "print(train3.SibSp.unique())\n",
    "print(train3.Parch.unique())\n",
    "print(train3.Embarked.unique())\n",
    "#print(train3.Fare.unique())\n"
   ]
  },
  {
   "cell_type": "code",
   "execution_count": 57,
   "id": "23a7ec39-525e-48eb-a535-25007d16c127",
   "metadata": {},
   "outputs": [],
   "source": [
    "cat=train3[['Pclass','SibSp','Parch'\n",
    "           ]].astype('category')\n",
    "train4=train3.drop(['Pclass','SibSp','Parch'\n",
    "                   ],axis=1)\n",
    "#\n",
    "train4=pd.concat([train4,cat],axis=1, join='inner')"
   ]
  },
  {
   "cell_type": "code",
   "execution_count": 58,
   "id": "d04cd900-8948-49cc-aa14-e88dea14f389",
   "metadata": {},
   "outputs": [
    {
     "name": "stdout",
     "output_type": "stream",
     "text": [
      "<class 'pandas.core.frame.DataFrame'>\n",
      "Int64Index: 869 entries, 0 to 890\n",
      "Data columns (total 8 columns):\n",
      " #   Column    Non-Null Count  Dtype   \n",
      "---  ------    --------------  -----   \n",
      " 0   Survived  869 non-null    int64   \n",
      " 1   Sex       869 non-null    object  \n",
      " 2   Age       869 non-null    float64 \n",
      " 3   Fare      869 non-null    float64 \n",
      " 4   Embarked  869 non-null    object  \n",
      " 5   Pclass    869 non-null    category\n",
      " 6   SibSp     869 non-null    category\n",
      " 7   Parch     869 non-null    category\n",
      "dtypes: category(3), float64(2), int64(1), object(2)\n",
      "memory usage: 44.1+ KB\n"
     ]
    }
   ],
   "source": [
    "#train4=train4.merge(cat)\n",
    "train4.info()\n"
   ]
  },
  {
   "cell_type": "markdown",
   "id": "3616bb6b-4d5e-418b-91a3-60532a5f6fdc",
   "metadata": {},
   "source": [
    "### Test data"
   ]
  },
  {
   "cell_type": "code",
   "execution_count": 59,
   "id": "247fa06a-9bcb-4ef4-987c-9c461b63d2a1",
   "metadata": {},
   "outputs": [
    {
     "name": "stdout",
     "output_type": "stream",
     "text": [
      "<class 'pandas.core.frame.DataFrame'>\n",
      "RangeIndex: 418 entries, 0 to 417\n",
      "Data columns (total 10 columns):\n",
      " #   Column       Non-Null Count  Dtype   \n",
      "---  ------       --------------  -----   \n",
      " 0   PassengerId  418 non-null    int64   \n",
      " 1   Name         418 non-null    object  \n",
      " 2   Sex          418 non-null    object  \n",
      " 3   Age          418 non-null    float64 \n",
      " 4   Ticket       418 non-null    object  \n",
      " 5   Fare         418 non-null    float64 \n",
      " 6   Embarked     418 non-null    object  \n",
      " 7   Pclass       418 non-null    category\n",
      " 8   SibSp        418 non-null    category\n",
      " 9   Parch        418 non-null    category\n",
      "dtypes: category(3), float64(2), int64(1), object(4)\n",
      "memory usage: 25.0+ KB\n"
     ]
    }
   ],
   "source": [
    "\n",
    "cat=test1[['Pclass','SibSp','Parch'\n",
    "           ]].astype('category')\n",
    "test2=test1.drop(['Pclass','SibSp','Parch'\n",
    "                   ],axis=1)\n",
    "#\n",
    "test2=pd.concat([test2,cat],axis=1, join='inner')\n",
    "test2.info()"
   ]
  },
  {
   "cell_type": "code",
   "execution_count": 60,
   "id": "b9015285-1d14-45eb-afaf-7660edc17a1b",
   "metadata": {},
   "outputs": [],
   "source": [
    "train5=pd.get_dummies(train4)\n",
    "test3=pd.get_dummies(test2)"
   ]
  },
  {
   "cell_type": "markdown",
   "id": "fef112f8-5875-4cd6-b3e4-b9e13bdaa91b",
   "metadata": {},
   "source": [
    "## Target- validation- test split"
   ]
  },
  {
   "cell_type": "code",
   "execution_count": 61,
   "id": "a6e48f7f-bf36-495c-996f-060163917863",
   "metadata": {},
   "outputs": [
    {
     "data": {
      "text/plain": [
       "array(['PassengerId', 'Age', 'Fare', 'Name_Abbott, Master. Eugene Joseph',\n",
       "       'Name_Abelseth, Miss. Karen Marie',\n",
       "       'Name_Abelseth, Mr. Olaus Jorgensen',\n",
       "       'Name_Abrahamsson, Mr. Abraham August Johannes',\n",
       "       'Name_Abrahim, Mrs. Joseph (Sophie Halaut Easu)',\n",
       "       'Name_Aks, Master. Philip Frank',\n",
       "       'Name_Aldworth, Mr. Charles Augustus',\n",
       "       'Name_Allison, Mr. Hudson Joshua Creighton',\n",
       "       'Name_Andersen, Mr. Albert Karvin',\n",
       "       'Name_Andersson, Miss. Ida Augusta Margareta',\n",
       "       'Name_Andersson, Mr. Johan Samuel',\n",
       "       'Name_Andrew, Mr. Frank Thomas', 'Name_Angheloff, Mr. Minko',\n",
       "       'Name_Angle, Mr. William A', 'Name_Aronsson, Mr. Ernst Axel Algot',\n",
       "       'Name_Ashby, Mr. John', 'Name_Asplund, Master. Carl Edgar',\n",
       "       'Name_Asplund, Master. Filip Oscar',\n",
       "       'Name_Asplund, Mr. Carl Oscar Vilhelm Gustafsson',\n",
       "       'Name_Asplund, Mr. Johan Charles',\n",
       "       'Name_Assaf Khalil, Mrs. Mariana (Miriam\")\"',\n",
       "       'Name_Assaf, Mr. Gerios', 'Name_Assam, Mr. Ali',\n",
       "       'Name_Astor, Col. John Jacob', 'Name_Baccos, Mr. Raffull',\n",
       "       'Name_Badman, Miss. Emily Louisa',\n",
       "       'Name_Baimbrigge, Mr. Charles Robert', 'Name_Barry, Miss. Julia',\n",
       "       'Name_Beattie, Mr. Thomson', 'Name_Beauchamp, Mr. Henry James',\n",
       "       'Name_Becker, Miss. Ruth Elizabeth',\n",
       "       'Name_Becker, Mrs. Allen Oliver (Nellie E Baumgardner)',\n",
       "       'Name_Bentham, Miss. Lilian W', 'Name_Betros, Master. Seman',\n",
       "       'Name_Bird, Miss. Ellen', 'Name_Birnbaum, Mr. Jakob',\n",
       "       'Name_Bjorklund, Mr. Ernst Herbert',\n",
       "       'Name_Bonnell, Miss. Caroline', 'Name_Borebank, Mr. John James',\n",
       "       'Name_Botsford, Mr. William Hull', 'Name_Boulos, Master. Akar',\n",
       "       'Name_Bowen, Miss. Grace Scott', 'Name_Bowenur, Mr. Solomon',\n",
       "       'Name_Bradley, Miss. Bridget Delia',\n",
       "       'Name_Brady, Mr. John Bertram',\n",
       "       'Name_Braf, Miss. Elin Ester Maria', 'Name_Brandeis, Mr. Emil',\n",
       "       'Name_Brobeck, Mr. Karl Rudolf', 'Name_Brown, Miss. Edith Eileen',\n",
       "       'Name_Brown, Mrs. John Murray (Caroline Lane Lamson)',\n",
       "       'Name_Bryhl, Miss. Dagmar Jenny Ingeborg ',\n",
       "       'Name_Buckley, Miss. Katherine', 'Name_Buckley, Mr. Daniel',\n",
       "       'Name_Bucknell, Mrs. William Robert (Emma Eliza Ward)',\n",
       "       'Name_Burns, Miss. Mary Delia', 'Name_Cacic, Miss. Manda',\n",
       "       'Name_Cacic, Mr. Jego Grga', 'Name_Caldwell, Mr. Albert Francis',\n",
       "       'Name_Canavan, Mr. Patrick',\n",
       "       'Name_Candee, Mrs. Edward (Helen Churchill Hungerford)',\n",
       "       'Name_Caram, Mr. Joseph',\n",
       "       'Name_Cardeza, Mrs. James Warburton Martinez (Charlotte Wardle Drake)',\n",
       "       'Name_Carlsson, Mr. Carl Robert', 'Name_Carr, Miss. Jeannie',\n",
       "       'Name_Carrau, Mr. Jose Pedro', 'Name_Carver, Mr. Alfred John',\n",
       "       'Name_Case, Mr. Howard Brown',\n",
       "       'Name_Cassebeer, Mrs. Henry Arthur Jr (Eleanor Genevieve Fosdick)',\n",
       "       'Name_Cavendish, Mrs. Tyrell William (Julia Florence Siegel)',\n",
       "       'Name_Chaffee, Mrs. Herbert Fuller (Carrie Constance Toogood)',\n",
       "       'Name_Chapman, Mrs. John Henry (Sara Elizabeth Lawry)',\n",
       "       'Name_Chaudanson, Miss. Victorine',\n",
       "       'Name_Chevre, Mr. Paul Romaine',\n",
       "       'Name_Chisholm, Mr. Roderick Robert Crispin',\n",
       "       'Name_Christy, Mrs. (Alice Frances)',\n",
       "       'Name_Chronopoulos, Mr. Demetrios',\n",
       "       'Name_Clark, Mr. Walter Miller',\n",
       "       'Name_Clark, Mrs. Walter Miller (Virginia McDowell)',\n",
       "       'Name_Clarke, Mr. Charles Valentine', 'Name_Colbert, Mr. Patrick',\n",
       "       'Name_Collett, Mr. Sidney C Stuart',\n",
       "       'Name_Compton, Mr. Alexander Taylor Jr',\n",
       "       'Name_Compton, Mrs. Alexander Taylor (Mary Eliza Ingersoll)',\n",
       "       'Name_Conlon, Mr. Thomas Henry', 'Name_Connolly, Miss. Kate',\n",
       "       'Name_Cook, Mrs. (Selena Rogers)', 'Name_Cor, Mr. Bartol',\n",
       "       'Name_Cor, Mr. Ivan', 'Name_Corbett, Mrs. Walter H (Irene Colvin)',\n",
       "       'Name_Corey, Mrs. Percy C (Mary Phyllis Elizabeth Miller)',\n",
       "       'Name_Cornell, Mrs. Robert Clifford (Malvina Helen Lamson)',\n",
       "       'Name_Cotterill, Mr. Henry Harry\"\"',\n",
       "       'Name_Coutts, Mrs. William (Winnie Minnie\" Treanor)\"',\n",
       "       'Name_Crafton, Mr. John Bertram', 'Name_Cribb, Miss. Laura Alice',\n",
       "       'Name_Crosby, Mrs. Edward Gifford (Catherine Elizabeth Halstead)',\n",
       "       'Name_Cumings, Mr. John Bradley', 'Name_Daher, Mr. Shedid',\n",
       "       'Name_Daly, Miss. Margaret Marcella Maggie\"\"',\n",
       "       'Name_Danbom, Master. Gilbert Sigvard Emanuel',\n",
       "       'Name_Daniels, Miss. Sarah',\n",
       "       'Name_Davidson, Mrs. Thornton (Orian Hays)',\n",
       "       'Name_Davies, Mr. Evan', 'Name_Davies, Mr. John Samuel',\n",
       "       'Name_Davies, Mr. Joseph',\n",
       "       'Name_Davies, Mrs. John Morgan (Elizabeth Agnes Mary White) ',\n",
       "       'Name_Davison, Mr. Thomas Henry', 'Name_Deacon, Mr. Percy William',\n",
       "       'Name_Dean, Miss. Elizabeth Gladys Millvina\"\"',\n",
       "       'Name_Dean, Mrs. Bertram (Eva Georgetta Light)',\n",
       "       'Name_Delalic, Mr. Redjo', 'Name_Demetri, Mr. Marinko',\n",
       "       'Name_Denbury, Mr. Herbert', 'Name_Dennis, Mr. William',\n",
       "       'Name_Dibden, Mr. William', 'Name_Dika, Mr. Mirko',\n",
       "       'Name_Dintcheff, Mr. Valtcho', 'Name_Dodge, Dr. Washington',\n",
       "       'Name_Dodge, Mrs. Washington (Ruth Vidaver)',\n",
       "       'Name_Douglas, Mrs. Frederick Charles (Mary Helene Baxter)',\n",
       "       'Name_Douglas, Mrs. Walter Donald (Mahala Dutton)',\n",
       "       'Name_Doyle, Miss. Elizabeth', 'Name_Drapkin, Miss. Jennie',\n",
       "       'Name_Drew, Master. Marshall Brines',\n",
       "       'Name_Drew, Mr. James Vivian', 'Name_Dulles, Mr. William Crothers',\n",
       "       'Name_Duquemin, Mr. Joseph', 'Name_Duran y More, Miss. Florentina',\n",
       "       'Name_Dyker, Mr. Adolf Fredrik',\n",
       "       'Name_Dyker, Mrs. Adolf Fredrik (Anna Elisabeth Judith Andersson)',\n",
       "       'Name_Earnshaw, Mrs. Boulton (Olive Potter)',\n",
       "       'Name_Elias, Mr. Joseph', 'Name_Enander, Mr. Ingvar',\n",
       "       'Name_Evans, Miss. Edith Corse', 'Name_Everett, Mr. Thomas James',\n",
       "       'Name_Faunthorpe, Mr. Harry', 'Name_Fillbrook, Mr. Joseph Charles',\n",
       "       'Name_Finoli, Mr. Luigi',\n",
       "       'Name_Flegenheim, Mrs. Alfred (Antoinette)',\n",
       "       'Name_Fleming, Miss. Honora', 'Name_Foley, Mr. Joseph',\n",
       "       'Name_Foley, Mr. William', 'Name_Ford, Mr. Arthur',\n",
       "       'Name_Ford, Mr. Edward Watson', 'Name_Fortune, Miss. Ethel Flora',\n",
       "       'Name_Fortune, Mrs. Mark (Mary McDougald)',\n",
       "       'Name_Fox, Mr. Patrick',\n",
       "       'Name_Franklin, Mr. Charles (Charles Fardon)',\n",
       "       'Name_Franklin, Mr. Thomas Parham',\n",
       "       'Name_Frauenthal, Mr. Isaac Gerald',\n",
       "       'Name_Frolicher-Stehli, Mrs. Maxmillian (Margaretha Emerentia Stehli)',\n",
       "       'Name_Gale, Mr. Harry', 'Name_Geiger, Miss. Amalie',\n",
       "       'Name_Gibson, Miss. Dorothy Winifred',\n",
       "       'Name_Gibson, Mrs. Leonard (Pauline C Boeson)',\n",
       "       'Name_Gilbert, Mr. William', 'Name_Giles, Mr. Edgar',\n",
       "       'Name_Giles, Mr. Ralph', 'Name_Goldsmith, Mr. Nathan',\n",
       "       'Name_Goodwin, Miss. Jessie Allis',\n",
       "       'Name_Goodwin, Mr. Charles Frederick',\n",
       "       'Name_Gracie, Col. Archibald IV',\n",
       "       'Name_Greenfield, Mrs. Leo David (Blanche Strouse)',\n",
       "       'Name_Guest, Mr. Robert', 'Name_Hagardon, Miss. Kate',\n",
       "       'Name_Hansen, Mrs. Claus Peter (Jennie L Howard)',\n",
       "       'Name_Harbeck, Mr. William H',\n",
       "       'Name_Harder, Mrs. George Achilles (Dorothy Annan)',\n",
       "       'Name_Hays, Mr. Charles Melville', 'Name_Head, Mr. Christopher',\n",
       "       'Name_Hee, Mr. Ling', 'Name_Hellstrom, Miss. Hilda Maria',\n",
       "       'Name_Henriksson, Miss. Jenny Lovisa', 'Name_Herman, Miss. Kate',\n",
       "       'Name_Herman, Mr. Samuel', 'Name_Hilliard, Mr. Herbert Henry',\n",
       "       'Name_Hiltunen, Miss. Marta', 'Name_Hipkins, Mr. William Edward',\n",
       "       'Name_Hirvonen, Mrs. Alexander (Helga E Lindqvist)',\n",
       "       'Name_Hocking, Miss. Ellen Nellie\"\"',\n",
       "       'Name_Hocking, Mr. Samuel James Metcalfe',\n",
       "       'Name_Hold, Mrs. Stephen (Annie Margaret Hill)',\n",
       "       'Name_Holthen, Mr. Johan Martin',\n",
       "       'Name_Howard, Miss. May Elizabeth', 'Name_Howard, Mr. Benjamin',\n",
       "       'Name_Howard, Mrs. Benjamin (Ellen Truelove Arman)',\n",
       "       'Name_Hyman, Mr. Abraham', 'Name_Ilieff, Mr. Ylio',\n",
       "       'Name_Ilmakangas, Miss. Ida Livija',\n",
       "       'Name_Ismay, Mr. Joseph Bruce',\n",
       "       'Name_Jefferys, Mr. Clifford Thomas',\n",
       "       'Name_Jefferys, Mr. Ernest Wilfred',\n",
       "       'Name_Johansson Palmquist, Mr. Oskar Leander',\n",
       "       'Name_Johansson, Mr. Nils',\n",
       "       'Name_Johnston, Master. William Arthur Willie\"\"',\n",
       "       'Name_Johnston, Mrs. Andrew G (Elizabeth Lily\" Watson)\"',\n",
       "       'Name_Jones, Mr. Charles Cresson',\n",
       "       'Name_Jonsson, Mr. Nils Hilding', 'Name_Julian, Mr. Henry Forbes',\n",
       "       'Name_Karlsson, Mr. Einar Gervasius',\n",
       "       'Name_Karlsson, Mr. Julius Konrad Eugen',\n",
       "       'Name_Karnes, Mrs. J Frank (Claire Bennett)',\n",
       "       'Name_Karun, Mr. Franz',\n",
       "       'Name_Katavelas, Mr. Vassilios (Catavelas Vassilios\")\"',\n",
       "       'Name_Keane, Mr. Daniel', 'Name_Keeping, Mr. Edwin',\n",
       "       'Name_Kelly, Mr. James', 'Name_Kennedy, Mr. John',\n",
       "       'Name_Kenyon, Mr. Frederick R', 'Name_Khalil, Mr. Betros',\n",
       "       'Name_Khalil, Mrs. Betros (Zahie Maria\" Elias)\"',\n",
       "       'Name_Kiernan, Mr. John',\n",
       "       'Name_Kimball, Mrs. Edwin Nelson Jr (Gertrude Parsons)',\n",
       "       'Name_Kink, Miss. Maria', 'Name_Kink-Heilmann, Mr. Anton',\n",
       "       'Name_Kink-Heilmann, Mrs. Anton (Luise Heilmann)',\n",
       "       'Name_Klasen, Miss. Gertrud Emilia',\n",
       "       'Name_Klasen, Mrs. (Hulda Kristina Eugenia Lofqvist)',\n",
       "       'Name_Krekorian, Mr. Neshan', 'Name_Kreuchen, Miss. Emilie',\n",
       "       'Name_Lahtinen, Rev. William', 'Name_Lamb, Mr. John Joseph',\n",
       "       'Name_Lane, Mr. Patrick', 'Name_Laroche, Miss. Louise',\n",
       "       'Name_Larsson-Rondberg, Mr. Edvard A',\n",
       "       'Name_Lefebre, Mrs. Frank (Frances)', 'Name_Lennon, Miss. Mary',\n",
       "       'Name_Lindeberg-Lind, Mr. Erik Gustaf (Mr Edward Lingrey\")\"',\n",
       "       'Name_Lindell, Mrs. Edvard Bengtsson (Elin Gerda Persson)',\n",
       "       'Name_Lindstrom, Mrs. Carl Johan (Sigrid Posse)',\n",
       "       'Name_Linehan, Mr. Michael',\n",
       "       'Name_Lines, Mrs. Ernest H (Elizabeth Lindsey James)',\n",
       "       'Name_Lingane, Mr. John', 'Name_Lithman, Mr. Simon',\n",
       "       'Name_Lockyer, Mr. Edward', 'Name_Loring, Mr. Joseph Holland',\n",
       "       'Name_Louch, Mr. Charles Alexander',\n",
       "       'Name_Lundin, Miss. Olga Elida', 'Name_Lundstrom, Mr. Thure Edvin',\n",
       "       'Name_Lyntakoff, Mr. Stanko', 'Name_MacKay, Mr. George William',\n",
       "       'Name_Maguire, Mr. John Edward', 'Name_Mahon, Miss. Bridget Delia',\n",
       "       'Name_Mahon, Mr. John', 'Name_Makinen, Mr. Kalle Edvard',\n",
       "       'Name_Malachard, Mr. Noel',\n",
       "       'Name_Mallet, Mrs. Albert (Antoinette Magnin)',\n",
       "       'Name_Mangiavacchi, Mr. Serafino Emilio',\n",
       "       'Name_Mardirosian, Mr. Sarkis',\n",
       "       'Name_Marvin, Mrs. Daniel Warner (Mary Graham Carmichael Farquarson)',\n",
       "       'Name_Matinoff, Mr. Nicola', 'Name_Maybery, Mr. Frank Hubert',\n",
       "       'Name_McCaffry, Mr. Thomas Francis',\n",
       "       'Name_McCarthy, Miss. Catherine Katie\"\"',\n",
       "       'Name_McCoy, Miss. Alicia', 'Name_McCrae, Mr. Arthur Gordon',\n",
       "       'Name_McCrie, Mr. James Matthew', 'Name_McGowan, Miss. Katherine',\n",
       "       \"Name_McNamee, Mrs. Neal (Eileen O'Leary)\",\n",
       "       'Name_McNeill, Miss. Bridget', 'Name_Midtsjo, Mr. Karl Albert',\n",
       "       'Name_Miles, Mr. Frank',\n",
       "       'Name_Minahan, Mrs. William Edward (Lillian E Thorpe)',\n",
       "       'Name_Minkoff, Mr. Lazar', 'Name_Mock, Mr. Philipp Edmund',\n",
       "       'Name_Moore, Mr. Clarence Bloomfield',\n",
       "       'Name_Moubarek, Mrs. George (Omine Amenia\" Alexander)\"',\n",
       "       'Name_Mulvihill, Miss. Bertha E', 'Name_Murphy, Miss. Nora',\n",
       "       'Name_Myles, Mr. Thomas Francis',\n",
       "       'Name_Nakid, Mrs. Said (Waika Mary\" Mowad)\"',\n",
       "       'Name_Nancarrow, Mr. William Henry', 'Name_Nasr, Mr. Mustafa',\n",
       "       'Name_Naughton, Miss. Hannah', 'Name_Nesson, Mr. Israel',\n",
       "       'Name_Nieminen, Miss. Manta Josefina',\n",
       "       'Name_Niklasson, Mr. Samuel', 'Name_Nilsson, Miss. Berta Olivia',\n",
       "       'Name_Nilsson, Mr. August Ferdinand',\n",
       "       'Name_Nourney, Mr. Alfred (Baron von Drachstedt\")\"',\n",
       "       \"Name_O'Connor, Mr. Patrick\", \"Name_O'Donoghue, Ms. Bridget\",\n",
       "       \"Name_O'Keefe, Mr. Patrick\", 'Name_Oliva y Ocana, Dona. Fermina',\n",
       "       'Name_Olsen, Master. Artur Karl', 'Name_Olsson, Mr. Oscar Wilhelm',\n",
       "       'Name_Omont, Mr. Alfred Fernand', 'Name_Oreskovic, Miss. Jelka',\n",
       "       'Name_Ostby, Miss. Helene Ragnhild',\n",
       "       'Name_Ovies y Rodriguez, Mr. Servando',\n",
       "       'Name_Oxenham, Mr. Percy Thomas',\n",
       "       'Name_Pallas y Castello, Mr. Emilio',\n",
       "       'Name_Palsson, Master. Paul Folke',\n",
       "       'Name_Parker, Mr. Clifford Richard',\n",
       "       'Name_Payne, Mr. Vivian Ponsonby',\n",
       "       'Name_Peacock, Master. Alfred Edward',\n",
       "       'Name_Peacock, Miss. Treasteall',\n",
       "       'Name_Peacock, Mrs. Benjamin (Edith Nile)',\n",
       "       'Name_Pearce, Mr. Ernest', 'Name_Pedersen, Mr. Olaf',\n",
       "       'Name_Peltomaki, Mr. Nikolai Johannes',\n",
       "       'Name_Peruschitz, Rev. Joseph Maria',\n",
       "       'Name_Peter, Master. Michael J', 'Name_Petersen, Mr. Marius',\n",
       "       'Name_Phillips, Miss. Alice Frances Louisa',\n",
       "       'Name_Phillips, Mr. Escott Robert', 'Name_Pokrnic, Mr. Mate',\n",
       "       'Name_Pokrnic, Mr. Tome',\n",
       "       'Name_Portaluppi, Mr. Emilio Ilario Giuseppe',\n",
       "       'Name_Pulbaum, Mr. Franz', 'Name_Quick, Miss. Winifred Vera',\n",
       "       'Name_Rasmussen, Mrs. (Lena Jacobsen Solvang)',\n",
       "       'Name_Reynolds, Mr. Harold J',\n",
       "       'Name_Rheims, Mr. George Alexander Lucien',\n",
       "       'Name_Rice, Master. Albert',\n",
       "       'Name_Riihivouri, Miss. Susanna Juhantytar Sanni\"\"',\n",
       "       'Name_Riordan, Miss. Johanna Hannah\"\"',\n",
       "       'Name_Risien, Mrs. Samuel (Emma)', 'Name_Robins, Mr. Alexander A',\n",
       "       'Name_Rogers, Mr. Reginald Harry',\n",
       "       'Name_Rosblom, Miss. Salli Helena',\n",
       "       'Name_Rosenbaum, Miss. Edith Louise',\n",
       "       'Name_Rosenshine, Mr. George (Mr George Thorne\")\"',\n",
       "       'Name_Roth, Miss. Sarah A', 'Name_Rothschild, Mr. Martin',\n",
       "       'Name_Rowe, Mr. Alfred G', 'Name_Ryan, Mr. Edward',\n",
       "       'Name_Ryerson, Master. John Borie',\n",
       "       'Name_Ryerson, Mr. Arthur Larned',\n",
       "       'Name_Ryerson, Mrs. Arthur Larned (Emily Maria Borie)',\n",
       "       'Name_Saade, Mr. Jean Nassr', 'Name_Sadowitz, Mr. Harry',\n",
       "       'Name_Saether, Mr. Simon Sivertsen',\n",
       "       'Name_Sage, Master. William Henry', 'Name_Sage, Miss. Ada',\n",
       "       'Name_Sage, Mr. John George',\n",
       "       'Name_Sage, Mrs. John (Annie Bullen)',\n",
       "       'Name_Salander, Mr. Karl Johan', 'Name_Salomon, Mr. Abraham L',\n",
       "       'Name_Samaan, Mr. Elias', 'Name_Samaan, Mr. Hanna',\n",
       "       'Name_Sandstrom, Miss. Beatrice Irene', 'Name_Sap, Mr. Julius',\n",
       "       'Name_Schabert, Mrs. Paul (Emma Mock)', 'Name_Schmidt, Mr. August',\n",
       "       'Name_Shaughnessy, Mr. Patrick', 'Name_Shine, Miss. Ellen Natalia',\n",
       "       'Name_Sincock, Miss. Maude', 'Name_Smith, Mr. Lucien Philip',\n",
       "       'Name_Smith, Mrs. Lucien Philip (Mary Eloise Hughes)',\n",
       "       'Name_Smyth, Miss. Julia', 'Name_Snyder, Mr. John Pillsbury',\n",
       "       'Name_Snyder, Mrs. John Pillsbury (Nelle Stevenson)',\n",
       "       'Name_Spector, Mr. Woolf', 'Name_Spedden, Master. Robert Douglas',\n",
       "       'Name_Spedden, Mr. Frederic Oakley',\n",
       "       'Name_Spencer, Mr. William Augustus',\n",
       "       'Name_Spinner, Mr. Henry John', 'Name_Stanton, Mr. Samuel Ward',\n",
       "       'Name_Stengel, Mr. Charles Emil Henry',\n",
       "       'Name_Stengel, Mrs. Charles Emil Henry (Annie May Morris)',\n",
       "       'Name_Stokes, Mr. Philip Joseph', 'Name_Storey, Mr. Thomas',\n",
       "       'Name_Straus, Mr. Isidor',\n",
       "       'Name_Straus, Mrs. Isidor (Rosalie Ida Blun)',\n",
       "       'Name_Strilic, Mr. Ivan', 'Name_Svensson, Mr. Johan Cervin',\n",
       "       'Name_Swane, Mr. George', 'Name_Sweet, Mr. George Frederick',\n",
       "       'Name_Tenglin, Mr. Gunnar Isidor', 'Name_Thomas, Mr. Charles P',\n",
       "       'Name_Thomas, Mr. John', 'Name_Thomas, Mr. Tannous',\n",
       "       'Name_Thomas, Mrs. Alexander (Thamine Thelma\")\"',\n",
       "       'Name_Thomson, Mr. Alexander Morrison', 'Name_Torfa, Mr. Assad',\n",
       "       'Name_Touma, Master. Georges Youssef',\n",
       "       'Name_Touma, Miss. Maria Youssef',\n",
       "       'Name_Tucker, Mr. Gilbert Milligan Jr',\n",
       "       'Name_Vander Planke, Mr. Julius', 'Name_Vartanian, Mr. David',\n",
       "       'Name_Veal, Mr. James', 'Name_Vendel, Mr. Olof Edvin',\n",
       "       'Name_Walcroft, Miss. Nellie', 'Name_Ware, Mr. Frederick',\n",
       "       'Name_Ware, Mr. John James', 'Name_Ware, Mr. William Jeffery',\n",
       "       'Name_Ware, Mrs. John James (Florence Louise Long)',\n",
       "       'Name_Warren, Mr. Charles William',\n",
       "       'Name_Warren, Mr. Frank Manley', 'Name_Watt, Miss. Bertha J',\n",
       "       'Name_Weisz, Mr. Leopold', 'Name_Wells, Master. Ralph Lester',\n",
       "       'Name_Wells, Mrs. Arthur Henry (Addie\" Dart Trevaskis)\"',\n",
       "       'Name_Wenzel, Mr. Linhart', 'Name_West, Miss. Barbara J',\n",
       "       'Name_Whabee, Mrs. George Joseph (Shawneene Abi-Saab)',\n",
       "       'Name_Wheeler, Mr. Edwin Frederick\"\"',\n",
       "       'Name_White, Mrs. John Stuart (Ella Holmes)',\n",
       "       'Name_Wick, Mr. George Dennick', 'Name_Widener, Mr. George Dunton',\n",
       "       'Name_Widener, Mrs. George Dunton (Eleanor Elkins)',\n",
       "       'Name_Wiklund, Mr. Karl Johan',\n",
       "       'Name_Wilkes, Mrs. James (Ellen Needs)',\n",
       "       'Name_Willard, Miss. Constance',\n",
       "       'Name_Willer, Mr. Aaron (Abi Weller\")\"',\n",
       "       'Name_Williams, Mr. Richard Norris II',\n",
       "       'Name_Wilson, Miss. Helen Alice', 'Name_Wirz, Mr. Albert',\n",
       "       'Name_Wittevrongel, Mr. Camille', 'Name_Wright, Miss. Marion',\n",
       "       'Name_Zakarian, Mr. Mapriededer', 'Name_Zakarian, Mr. Ortin',\n",
       "       'Name_de Brito, Mr. Jose Joaquim',\n",
       "       'Name_de Messemaeker, Mr. Guillaume Joseph',\n",
       "       'Name_del Carlo, Mrs. Sebastiano (Argenia Genovesi)',\n",
       "       'Name_van Billiard, Master. James William',\n",
       "       'Name_van Billiard, Master. Walter John', 'Sex_female', 'Sex_male',\n",
       "       'Ticket_110469', 'Ticket_110489', 'Ticket_110813', 'Ticket_111163',\n",
       "       'Ticket_112051', 'Ticket_112058', 'Ticket_112377', 'Ticket_112378',\n",
       "       'Ticket_112901', 'Ticket_113038', 'Ticket_113044', 'Ticket_113054',\n",
       "       'Ticket_113059', 'Ticket_113503', 'Ticket_113509', 'Ticket_113773',\n",
       "       'Ticket_113778', 'Ticket_113780', 'Ticket_113781', 'Ticket_113790',\n",
       "       'Ticket_113791', 'Ticket_113795', 'Ticket_113796', 'Ticket_113801',\n",
       "       'Ticket_11753', 'Ticket_11765', 'Ticket_11767', 'Ticket_11769',\n",
       "       'Ticket_11770', 'Ticket_11778', 'Ticket_11813', 'Ticket_1222',\n",
       "       'Ticket_12749', 'Ticket_13050', 'Ticket_13236', 'Ticket_13508',\n",
       "       'Ticket_13567', 'Ticket_13695', 'Ticket_13905', 'Ticket_1601',\n",
       "       'Ticket_16966', 'Ticket_17463', 'Ticket_17464', 'Ticket_17475',\n",
       "       'Ticket_17765', 'Ticket_17770', 'Ticket_19877', 'Ticket_19924',\n",
       "       'Ticket_19928', 'Ticket_19950', 'Ticket_2003', 'Ticket_211535',\n",
       "       'Ticket_21228', 'Ticket_21332', 'Ticket_220844', 'Ticket_220845',\n",
       "       'Ticket_226875', 'Ticket_228414', 'Ticket_230136', 'Ticket_233478',\n",
       "       'Ticket_233734', 'Ticket_235509', 'Ticket_236853', 'Ticket_236854',\n",
       "       'Ticket_237216', 'Ticket_237249', 'Ticket_237393', 'Ticket_237670',\n",
       "       'Ticket_237734', 'Ticket_237735', 'Ticket_237789', 'Ticket_239059',\n",
       "       'Ticket_240261', 'Ticket_240276', 'Ticket_24065', 'Ticket_24160',\n",
       "       'Ticket_242963', 'Ticket_244346', 'Ticket_244358', 'Ticket_244360',\n",
       "       'Ticket_244368', 'Ticket_248659', 'Ticket_248726', 'Ticket_248734',\n",
       "       'Ticket_248738', 'Ticket_248744', 'Ticket_248746', 'Ticket_250650',\n",
       "       'Ticket_250651', 'Ticket_2543', 'Ticket_2621', 'Ticket_2622',\n",
       "       'Ticket_2625', 'Ticket_26360', 'Ticket_2650', 'Ticket_2652',\n",
       "       'Ticket_2653', 'Ticket_2654', 'Ticket_2655', 'Ticket_2656',\n",
       "       'Ticket_2657', 'Ticket_2658', 'Ticket_2660', 'Ticket_2661',\n",
       "       'Ticket_2662', 'Ticket_2668', 'Ticket_2670', 'Ticket_26707',\n",
       "       'Ticket_2673', 'Ticket_2675', 'Ticket_2676', 'Ticket_2678',\n",
       "       'Ticket_2679', 'Ticket_2680', 'Ticket_2681', 'Ticket_2682',\n",
       "       'Ticket_2684', 'Ticket_2688', 'Ticket_2689', 'Ticket_2692',\n",
       "       'Ticket_2696', 'Ticket_2698', 'Ticket_28004', 'Ticket_28034',\n",
       "       'Ticket_28133', 'Ticket_28220', 'Ticket_28221', 'Ticket_28404',\n",
       "       'Ticket_28664', 'Ticket_28666', 'Ticket_29103', 'Ticket_29105',\n",
       "       'Ticket_29107', 'Ticket_2926', 'Ticket_29750', 'Ticket_3101266',\n",
       "       'Ticket_3101295', 'Ticket_3101297', 'Ticket_3101298',\n",
       "       'Ticket_315083', 'Ticket_315085', 'Ticket_315087', 'Ticket_315091',\n",
       "       'Ticket_315092', 'Ticket_315095', 'Ticket_315152', 'Ticket_315153',\n",
       "       'Ticket_315154', 'Ticket_32302', 'Ticket_329944', 'Ticket_330844',\n",
       "       'Ticket_330910', 'Ticket_330911', 'Ticket_330920', 'Ticket_330924',\n",
       "       'Ticket_330963', 'Ticket_330968', 'Ticket_330971', 'Ticket_330972',\n",
       "       'Ticket_334914', 'Ticket_334915', 'Ticket_335432', 'Ticket_33638',\n",
       "       'Ticket_3410', 'Ticket_342441', 'Ticket_342684', 'Ticket_342712',\n",
       "       'Ticket_343271', 'Ticket_345498', 'Ticket_345501', 'Ticket_345572',\n",
       "       'Ticket_345763', 'Ticket_345768', 'Ticket_345771', 'Ticket_345775',\n",
       "       'Ticket_3470', 'Ticket_347065', 'Ticket_347066', 'Ticket_347070',\n",
       "       'Ticket_347072', 'Ticket_347075', 'Ticket_347077', 'Ticket_347079',\n",
       "       'Ticket_347080', 'Ticket_347086', 'Ticket_347090', 'Ticket_347091',\n",
       "       'Ticket_347465', 'Ticket_347467', 'Ticket_347469', 'Ticket_347471',\n",
       "       'Ticket_348122', 'Ticket_348125', 'Ticket_349202', 'Ticket_349211',\n",
       "       'Ticket_349220', 'Ticket_349226', 'Ticket_349229', 'Ticket_349230',\n",
       "       'Ticket_349232', 'Ticket_349235', 'Ticket_349238', 'Ticket_349250',\n",
       "       'Ticket_349255', 'Ticket_349256', 'Ticket_349909', 'Ticket_349910',\n",
       "       'Ticket_349911', 'Ticket_350026', 'Ticket_350033', 'Ticket_350045',\n",
       "       'Ticket_350053', 'Ticket_350054', 'Ticket_350403', 'Ticket_350405',\n",
       "       'Ticket_350408', 'Ticket_350409', 'Ticket_350410', 'Ticket_350416',\n",
       "       'Ticket_359306', 'Ticket_359309', 'Ticket_363272', 'Ticket_363611',\n",
       "       'Ticket_364498', 'Ticket_364856', 'Ticket_364858', 'Ticket_364859',\n",
       "       'Ticket_365235', 'Ticket_365237', 'Ticket_36568', 'Ticket_366713',\n",
       "       'Ticket_367226', 'Ticket_367227', 'Ticket_368364', 'Ticket_368402',\n",
       "       'Ticket_368573', 'Ticket_368702', 'Ticket_368783', 'Ticket_36928',\n",
       "       'Ticket_3701', 'Ticket_370129', 'Ticket_370368', 'Ticket_370371',\n",
       "       'Ticket_370374', 'Ticket_371109', 'Ticket_371362', 'Ticket_376563',\n",
       "       'Ticket_376566', 'Ticket_382650', 'Ticket_382652', 'Ticket_382653',\n",
       "       'Ticket_383123', 'Ticket_383162', 'Ticket_386525', 'Ticket_392091',\n",
       "       'Ticket_392095', 'Ticket_4133', 'Ticket_65305', 'Ticket_680',\n",
       "       'Ticket_694', 'Ticket_7266', 'Ticket_7538', 'Ticket_7548',\n",
       "       'Ticket_7935', 'Ticket_9232', 'Ticket_A. 2. 39186',\n",
       "       'Ticket_A./5. 3338', 'Ticket_A.5. 3236', 'Ticket_A/4 31416',\n",
       "       'Ticket_A/4 48871', 'Ticket_A/4 48873', 'Ticket_A/5 1478',\n",
       "       'Ticket_A/5 21175', 'Ticket_A/5. 3337', 'Ticket_A/5. 851',\n",
       "       'Ticket_AQ/3. 30631', 'Ticket_AQ/4 3130', 'Ticket_C 17368',\n",
       "       'Ticket_C 4001', 'Ticket_C.A. 15185', 'Ticket_C.A. 2315',\n",
       "       'Ticket_C.A. 2673', 'Ticket_C.A. 30769', 'Ticket_C.A. 31029',\n",
       "       'Ticket_C.A. 31030', 'Ticket_C.A. 33112', 'Ticket_C.A. 33595',\n",
       "       'Ticket_C.A. 34050', 'Ticket_C.A. 34644', 'Ticket_C.A. 34651',\n",
       "       'Ticket_C.A. 37671', 'Ticket_C.A. 42795', 'Ticket_C.A. 49867',\n",
       "       'Ticket_C.A. 6212', 'Ticket_CA 2144', 'Ticket_CA 31352',\n",
       "       'Ticket_CA. 2343', 'Ticket_F.C. 12750', 'Ticket_F.C. 12998',\n",
       "       'Ticket_F.C.C. 13528', 'Ticket_F.C.C. 13534',\n",
       "       'Ticket_F.C.C. 13540', 'Ticket_LP 1588', 'Ticket_PC 17483',\n",
       "       'Ticket_PC 17531', 'Ticket_PC 17558', 'Ticket_PC 17562',\n",
       "       'Ticket_PC 17569', 'Ticket_PC 17580', 'Ticket_PC 17585',\n",
       "       'Ticket_PC 17591', 'Ticket_PC 17592', 'Ticket_PC 17594',\n",
       "       'Ticket_PC 17597', 'Ticket_PC 17598', 'Ticket_PC 17599',\n",
       "       'Ticket_PC 17603', 'Ticket_PC 17606', 'Ticket_PC 17607',\n",
       "       'Ticket_PC 17608', 'Ticket_PC 17613', 'Ticket_PC 17755',\n",
       "       'Ticket_PC 17756', 'Ticket_PC 17757', 'Ticket_PC 17758',\n",
       "       'Ticket_PC 17759', 'Ticket_PC 17760', 'Ticket_PC 17761',\n",
       "       'Ticket_PP 9549', 'Ticket_S.C./PARIS 2079', 'Ticket_S.O./P.P. 2',\n",
       "       'Ticket_S.O./P.P. 251', 'Ticket_S.O./P.P. 752',\n",
       "       'Ticket_S.O.C. 14879', 'Ticket_SC 14888', 'Ticket_SC/A.3 2861',\n",
       "       'Ticket_SC/A4 23568', 'Ticket_SC/AH 29037', 'Ticket_SC/AH 3085',\n",
       "       'Ticket_SC/PARIS 2147', 'Ticket_SC/PARIS 2148',\n",
       "       'Ticket_SC/PARIS 2159', 'Ticket_SC/PARIS 2166',\n",
       "       'Ticket_SC/PARIS 2167', 'Ticket_SC/PARIS 2168',\n",
       "       'Ticket_SC/Paris 2123', 'Ticket_SOTON/O.Q. 3101262',\n",
       "       'Ticket_SOTON/O.Q. 3101263', 'Ticket_SOTON/O.Q. 3101308',\n",
       "       'Ticket_SOTON/O.Q. 3101309', 'Ticket_SOTON/O.Q. 3101314',\n",
       "       'Ticket_SOTON/O.Q. 3101315', 'Ticket_SOTON/O2 3101284',\n",
       "       'Ticket_SOTON/OQ 392083', 'Ticket_STON/O 2. 3101268',\n",
       "       'Ticket_STON/O 2. 3101291', 'Ticket_STON/O2. 3101270',\n",
       "       'Ticket_STON/OQ. 369943', 'Ticket_W./C. 14260',\n",
       "       'Ticket_W./C. 14266', 'Ticket_W./C. 6607', 'Ticket_W./C. 6608',\n",
       "       'Ticket_W.E.P. 5734', 'Embarked_C', 'Embarked_Q', 'Embarked_S',\n",
       "       'Pclass_1', 'Pclass_2', 'Pclass_3', 'SibSp_0', 'SibSp_1',\n",
       "       'SibSp_2', 'SibSp_3', 'SibSp_4', 'SibSp_5', 'SibSp_8', 'Parch_0',\n",
       "       'Parch_1', 'Parch_2', 'Parch_3', 'Parch_4', 'Parch_5', 'Parch_6',\n",
       "       'Parch_9'], dtype=object)"
      ]
     },
     "execution_count": 61,
     "metadata": {},
     "output_type": "execute_result"
    }
   ],
   "source": [
    "test3.columns.values"
   ]
  },
  {
   "cell_type": "code",
   "execution_count": 62,
   "id": "467d0fa3-6af2-4764-8919-3b8e61fb23a9",
   "metadata": {},
   "outputs": [],
   "source": [
    "x_cols=['Age', 'Fare', 'Sex_female', 'Sex_male', 'Embarked_C',\n",
    "       'Embarked_Q', 'Embarked_S', 'Pclass_1', 'Pclass_2', 'Pclass_3',\n",
    "       'SibSp_0', 'SibSp_1', 'SibSp_2', 'SibSp_3', 'SibSp_4', 'SibSp_5',\n",
    "       'Parch_0', 'Parch_1', 'Parch_2', 'Parch_3', 'Parch_4', 'Parch_5',\n",
    "       'Parch_6']\n",
    "y_cols=['Survived']\n",
    "\n",
    "train_inputs=train5[x_cols]\n",
    "train_targets=train5[y_cols]\n",
    "\n",
    "test_inputs=test3[x_cols]\n",
    "#test_targets=test3[y_cols]\n"
   ]
  },
  {
   "cell_type": "markdown",
   "id": "9269632c-1217-48aa-9e92-54385ba43adb",
   "metadata": {},
   "source": [
    "# Scale the data"
   ]
  },
  {
   "cell_type": "code",
   "execution_count": 63,
   "id": "85a39394-6d08-4aa7-b884-3a805bac82a1",
   "metadata": {},
   "outputs": [
    {
     "data": {
      "text/plain": [
       "numpy.ndarray"
      ]
     },
     "execution_count": 63,
     "metadata": {},
     "output_type": "execute_result"
    }
   ],
   "source": [
    "from sklearn.preprocessing  import StandardScaler\n",
    "scaler=StandardScaler()\n",
    "\n",
    "scaler.fit(train_inputs)\n",
    "train_inputs_scaled=scaler.transform(train_inputs)\n",
    "\n",
    "scaler.fit(test_inputs)\n",
    "test_inputs_scaled=scaler.transform(test_inputs)\n",
    "type(train_inputs_scaled)\n"
   ]
  },
  {
   "cell_type": "markdown",
   "id": "b8a28a96-5b63-49cb-8c7f-bb074be9fae8",
   "metadata": {},
   "source": [
    "# Logistic Regression"
   ]
  },
  {
   "cell_type": "code",
   "execution_count": 64,
   "id": "0800893e-97b2-4d29-96a6-8cd92cc58506",
   "metadata": {},
   "outputs": [],
   "source": [
    "from sklearn.model_selection import train_test_split\n",
    "from sklearn.linear_model import LogisticRegression\n",
    "model=LogisticRegression()\n"
   ]
  },
  {
   "cell_type": "markdown",
   "id": "4b59b7f1-701e-4134-a57d-29c58d09e085",
   "metadata": {},
   "source": [
    "## Training and validation"
   ]
  },
  {
   "cell_type": "code",
   "execution_count": 81,
   "id": "6fd25236-5c86-46c5-88b0-3fb0b1f02943",
   "metadata": {
    "tags": []
   },
   "outputs": [
    {
     "name": "stdout",
     "output_type": "stream",
     "text": [
      "(174, 1)\n"
     ]
    },
    {
     "name": "stderr",
     "output_type": "stream",
     "text": [
      "C:\\Users\\LENOVO\\miniconda3\\lib\\site-packages\\sklearn\\utils\\validation.py:63: DataConversionWarning: A column-vector y was passed when a 1d array was expected. Please change the shape of y to (n_samples, ), for example using ravel().\n",
      "  return f(*args, **kwargs)\n"
     ]
    },
    {
     "data": {
      "text/plain": [
       "(174,)"
      ]
     },
     "execution_count": 81,
     "metadata": {},
     "output_type": "execute_result"
    }
   ],
   "source": [
    "x_train, x_val, y_train, y_val=train_test_split(\n",
    "    train_inputs_scaled,train_targets,test_size=0.2,random_state=365)\n",
    "\n",
    "model.fit(x_train,y_train)\n",
    "predict=model.predict(x_val)\n",
    "print(y_val.shape)\n",
    "predict.shape"
   ]
  },
  {
   "cell_type": "code",
   "execution_count": 82,
   "id": "8e773804-2bf9-4391-9e12-94d1bcd761fd",
   "metadata": {},
   "outputs": [
    {
     "name": "stdout",
     "output_type": "stream",
     "text": [
      "0.8160919540229885\n",
      "[[88 15]\n",
      " [17 54]]\n"
     ]
    }
   ],
   "source": [
    "score=model.score(x_val,y_val)\n",
    "print(score)\n",
    "\n",
    "# Confusion Matrix\n",
    "\n",
    "from sklearn import metrics\n",
    "cm=metrics.confusion_matrix(y_val,predict)\n",
    "print(cm)"
   ]
  },
  {
   "cell_type": "markdown",
   "id": "6767fe72-0404-4b41-a192-b3b11e822f1c",
   "metadata": {},
   "source": [
    "## Testing"
   ]
  },
  {
   "cell_type": "code",
   "execution_count": 83,
   "id": "49362321-8bfb-4b51-8848-baa907f015e4",
   "metadata": {
    "tags": []
   },
   "outputs": [
    {
     "data": {
      "text/plain": [
       "(418,)"
      ]
     },
     "execution_count": 83,
     "metadata": {},
     "output_type": "execute_result"
    }
   ],
   "source": [
    "\n",
    "predict=model.predict(test_inputs_scaled)\n",
    "\n",
    "predict.shape"
   ]
  },
  {
   "cell_type": "code",
   "execution_count": 84,
   "id": "990751b8-1a08-4543-b908-fb9c810d6fa7",
   "metadata": {},
   "outputs": [],
   "source": [
    "#gender_submission"
   ]
  },
  {
   "cell_type": "code",
   "execution_count": 85,
   "id": "51220cca-908f-48fd-b04e-942dccbcfca7",
   "metadata": {},
   "outputs": [
    {
     "data": {
      "text/html": [
       "<div>\n",
       "<style scoped>\n",
       "    .dataframe tbody tr th:only-of-type {\n",
       "        vertical-align: middle;\n",
       "    }\n",
       "\n",
       "    .dataframe tbody tr th {\n",
       "        vertical-align: top;\n",
       "    }\n",
       "\n",
       "    .dataframe thead th {\n",
       "        text-align: right;\n",
       "    }\n",
       "</style>\n",
       "<table border=\"1\" class=\"dataframe\">\n",
       "  <thead>\n",
       "    <tr style=\"text-align: right;\">\n",
       "      <th></th>\n",
       "      <th>PassengerId</th>\n",
       "      <th>Survived</th>\n",
       "    </tr>\n",
       "  </thead>\n",
       "  <tbody>\n",
       "    <tr>\n",
       "      <th>0</th>\n",
       "      <td>892</td>\n",
       "      <td>0</td>\n",
       "    </tr>\n",
       "    <tr>\n",
       "      <th>1</th>\n",
       "      <td>893</td>\n",
       "      <td>0</td>\n",
       "    </tr>\n",
       "    <tr>\n",
       "      <th>2</th>\n",
       "      <td>894</td>\n",
       "      <td>0</td>\n",
       "    </tr>\n",
       "    <tr>\n",
       "      <th>3</th>\n",
       "      <td>895</td>\n",
       "      <td>0</td>\n",
       "    </tr>\n",
       "    <tr>\n",
       "      <th>4</th>\n",
       "      <td>896</td>\n",
       "      <td>1</td>\n",
       "    </tr>\n",
       "    <tr>\n",
       "      <th>...</th>\n",
       "      <td>...</td>\n",
       "      <td>...</td>\n",
       "    </tr>\n",
       "    <tr>\n",
       "      <th>413</th>\n",
       "      <td>1305</td>\n",
       "      <td>0</td>\n",
       "    </tr>\n",
       "    <tr>\n",
       "      <th>414</th>\n",
       "      <td>1306</td>\n",
       "      <td>1</td>\n",
       "    </tr>\n",
       "    <tr>\n",
       "      <th>415</th>\n",
       "      <td>1307</td>\n",
       "      <td>0</td>\n",
       "    </tr>\n",
       "    <tr>\n",
       "      <th>416</th>\n",
       "      <td>1308</td>\n",
       "      <td>0</td>\n",
       "    </tr>\n",
       "    <tr>\n",
       "      <th>417</th>\n",
       "      <td>1309</td>\n",
       "      <td>0</td>\n",
       "    </tr>\n",
       "  </tbody>\n",
       "</table>\n",
       "<p>418 rows × 2 columns</p>\n",
       "</div>"
      ],
      "text/plain": [
       "     PassengerId  Survived\n",
       "0            892         0\n",
       "1            893         0\n",
       "2            894         0\n",
       "3            895         0\n",
       "4            896         1\n",
       "..           ...       ...\n",
       "413         1305         0\n",
       "414         1306         1\n",
       "415         1307         0\n",
       "416         1308         0\n",
       "417         1309         0\n",
       "\n",
       "[418 rows x 2 columns]"
      ]
     },
     "execution_count": 85,
     "metadata": {},
     "output_type": "execute_result"
    }
   ],
   "source": [
    "gender_submission['Survived']=predict\n",
    "gender_submission.to_csv('gender_submission.csv',index=False)\n",
    "gender_submission"
   ]
  },
  {
   "cell_type": "code",
   "execution_count": null,
   "id": "fe2d67a3-b6d4-48e7-a934-01db3e212a23",
   "metadata": {},
   "outputs": [],
   "source": []
  }
 ],
 "metadata": {
  "kernelspec": {
   "display_name": "Python 3 (ipykernel)",
   "language": "python",
   "name": "python3"
  },
  "language_info": {
   "codemirror_mode": {
    "name": "ipython",
    "version": 3
   },
   "file_extension": ".py",
   "mimetype": "text/x-python",
   "name": "python",
   "nbconvert_exporter": "python",
   "pygments_lexer": "ipython3",
   "version": "3.8.5"
  }
 },
 "nbformat": 4,
 "nbformat_minor": 5
}
